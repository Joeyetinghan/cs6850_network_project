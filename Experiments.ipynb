{
 "cells": [
  {
   "cell_type": "code",
   "execution_count": 87,
   "id": "27fce4fe",
   "metadata": {},
   "outputs": [],
   "source": [
    "import json\n",
    "import numpy as np\n",
    "import networkx as nx\n",
    "import gurobipy as gp\n",
    "from gurobipy import *\n",
    "import random\n",
    "import copy\n",
    "np.random.seed(0)"
   ]
  },
  {
   "cell_type": "code",
   "execution_count": 18,
   "id": "9110488c",
   "metadata": {},
   "outputs": [
    {
     "name": "stdout",
     "output_type": "stream",
     "text": [
      "(10, 0, 1)\n"
     ]
    }
   ],
   "source": [
    "print(gp.gurobi.version())"
   ]
  },
  {
   "cell_type": "code",
   "execution_count": null,
   "id": "7d9f6856",
   "metadata": {},
   "outputs": [],
   "source": []
  },
  {
   "cell_type": "markdown",
   "id": "76a6d676",
   "metadata": {},
   "source": [
    "## Construct network graph from Reddit data"
   ]
  },
  {
   "cell_type": "markdown",
   "id": "a7f2e79d",
   "metadata": {},
   "source": [
    "Refer to http://snap.stanford.edu/data/web-RedditNetworks.html"
   ]
  },
  {
   "cell_type": "code",
   "execution_count": 10,
   "id": "f67837fe",
   "metadata": {},
   "outputs": [
    {
     "name": "stdout",
     "output_type": "stream",
     "text": [
      "['TedTheGreek_Atheos', 'ptwonline', 'sn00gan', 'TiiziiO', 'caged_raptor']\n"
     ]
    }
   ],
   "source": [
    "# read in networks for subreddit /r/politics\n",
    "with open(\"politics.json\") as fp:\n",
    "    month_nets = json.load(fp)\n",
    "\n",
    "# see who the user sn00gan replied to in the first month\n",
    "print(month_nets[0][\"sn00gan\"])"
   ]
  },
  {
   "cell_type": "code",
   "execution_count": 22,
   "id": "d27ba93a",
   "metadata": {},
   "outputs": [],
   "source": [
    "# Create graph\n",
    "G = nx.DiGraph()\n",
    "for i in range(len(month_nets)):\n",
    "    for k,v in month_nets[i].items():\n",
    "        for vs in v:\n",
    "            G.add_edge(k, vs)"
   ]
  },
  {
   "cell_type": "code",
   "execution_count": 26,
   "id": "7a7be932",
   "metadata": {},
   "outputs": [
    {
     "data": {
      "text/plain": [
       "1688750"
      ]
     },
     "execution_count": 26,
     "metadata": {},
     "output_type": "execute_result"
    }
   ],
   "source": [
    "len(G.edges)"
   ]
  },
  {
   "cell_type": "code",
   "execution_count": 27,
   "id": "7e4d7159",
   "metadata": {},
   "outputs": [
    {
     "data": {
      "text/plain": [
       "119780"
      ]
     },
     "execution_count": 27,
     "metadata": {},
     "output_type": "execute_result"
    }
   ],
   "source": [
    "len(G.nodes)"
   ]
  },
  {
   "cell_type": "markdown",
   "id": "1ab5c438",
   "metadata": {},
   "source": [
    "## Cascade Functions"
   ]
  },
  {
   "cell_type": "code",
   "execution_count": 45,
   "id": "29a333f1",
   "metadata": {},
   "outputs": [],
   "source": [
    "def simulate_cascade(G, p_lb=0, p_ub=1):\n",
    "    \"\"\"\n",
    "    Simulate a cascade in graph by flipping coins for all edges in G to construct a subgraph G'\n",
    "    \n",
    "    Parameters:\n",
    "    G (networkx.Graph): The graph on which to run the model.\n",
    "    \n",
    "    Returns:\n",
    "    G_prime (networkx.Graph): A subgraph of G\n",
    "    \"\"\"\n",
    "    \n",
    "    G_prime = copy.deepcopy(G)\n",
    "    \n",
    "    removed_edges = []\n",
    "    for e in G.edges:\n",
    "        p = np.random.uniform(p_lb, p_ub)\n",
    "        u = np.random.uniform()\n",
    "        if p < u:\n",
    "            removed_edges.append(e)\n",
    "    \n",
    "    G_prime.remove_edges_from(removed_edges)\n",
    "    \n",
    "    \n",
    "    return G_prime"
   ]
  },
  {
   "cell_type": "code",
   "execution_count": 48,
   "id": "b1080782",
   "metadata": {},
   "outputs": [
    {
     "data": {
      "text/plain": [
       "12613"
      ]
     },
     "execution_count": 48,
     "metadata": {},
     "output_type": "execute_result"
    }
   ],
   "source": [
    "G_p = simulate_cascade(DAG2)\n",
    "len(G_p.edges)"
   ]
  },
  {
   "cell_type": "code",
   "execution_count": 66,
   "id": "16b383b8",
   "metadata": {},
   "outputs": [],
   "source": [
    "def simulate_fixed_y_cascade(G, ys, p_lb=0, p_ub=1):\n",
    "    '''\n",
    "    Simulate a cascade with fixed initial set of nodes\n",
    "    '''\n",
    "    # Set all nodes as not activated\n",
    "    activated = set()\n",
    "    # Add the seed nodes to the activated set\n",
    "    activated.update(ys)\n",
    "    # Initialize the newly activated nodes list with the seed nodes\n",
    "    newly_activated = set(ys)\n",
    "    \n",
    "    # Run the model until there are no more newly activated nodes\n",
    "    while newly_activated:\n",
    "        # Get the neighbors of all newly activated nodes\n",
    "        neighbors = set()\n",
    "        for node in newly_activated:\n",
    "            neighbors.update(set(G.neighbors(node)))\n",
    "        # Remove already activated and immune neighbors\n",
    "        neighbors -= activated\n",
    "        # Check for each neighbor if it gets activated\n",
    "        newly_activated = set()\n",
    "        for node in neighbors:\n",
    "            p = np.random.uniform(p_lb, p_ub)\n",
    "            u = np.random.uniform()\n",
    "            if p < u:\n",
    "                newly_activated.add(node)\n",
    "        # Add newly activated nodes to the activated set\n",
    "        activated.update(newly_activated)\n",
    "    \n",
    "    return len(activated)"
   ]
  },
  {
   "cell_type": "code",
   "execution_count": 73,
   "id": "5ca7ca9d",
   "metadata": {},
   "outputs": [
    {
     "data": {
      "text/plain": [
       "483"
      ]
     },
     "execution_count": 73,
     "metadata": {},
     "output_type": "execute_result"
    }
   ],
   "source": [
    "simulate_fixed_y_cascade(DAG2, np.arange(10))"
   ]
  },
  {
   "cell_type": "markdown",
   "id": "3f6bf173",
   "metadata": {},
   "source": [
    "## MIP Model"
   ]
  },
  {
   "cell_type": "code",
   "execution_count": 95,
   "id": "8daca913",
   "metadata": {},
   "outputs": [],
   "source": [
    "def solve_max_spread(graphs, B, C):\n",
    "    \"\"\"\n",
    "    Solves the MIP model for maximizing the spread of cascades using network design as presented in the paper\n",
    "    \"Maximizing the Spread of Cascades Using Network Design\" by Sheldon et al. for the given graph and budget.\n",
    "    \n",
    "    Parameters:\n",
    "    graphs (list [networkx.Graph]): List of training cascades graphs, which are subgraphs of the original network\n",
    "    budget (int): The budget of edges that can be added to the graph.\n",
    "    costs (list): Cost of each action\n",
    "    \"\"\"\n",
    "    # Initialize the MIP model\n",
    "    model = gp.Model('maximize_spread_cascades')\n",
    "    \n",
    "    # Number of training cascades\n",
    "    N = len(graphs)\n",
    "\n",
    "    # Initialize the decision variables\n",
    "    x = {}\n",
    "    y = {}\n",
    "    \n",
    "    nodes = graphs[0].nodes\n",
    "    \n",
    "    for k in range(N):\n",
    "        for v in nodes:\n",
    "            x[k, v] = model.addVar(vtype=GRB.CONTINUOUS, lb = 0, ub = 1, name=f'x_{k}_{v}')\n",
    "    for v in nodes:\n",
    "        y[v] = model.addVar(vtype=GRB.BINARY, name=f'y_{v}') # Asssuming each action corresponds to purchasing one node.\n",
    "\n",
    "    # Initialize the objective function to maximize the expected spread\n",
    "    obj = 1/N * gp.quicksum(x[k, v] for k in range(N) for v in nodes)\n",
    "    model.setObjective(obj, GRB.MAXIMIZE)\n",
    "\n",
    "    # Add the budget constraint\n",
    "    model.addConstr(gp.quicksum(C[v]*y[v] for v in nodes) <= B, name='budget_constraint')\n",
    "\n",
    "    # Add the coverage constraint\n",
    "    for v in nodes:\n",
    "        model.addConstrs((x[k, v] <= y[v] for v in nodes for k in range(N)), name=f'coverage_constraint_{k}_{v}')\n",
    "\n",
    "    # Add the edge constraints\n",
    "    for v in nodes:\n",
    "        model.addConstrs(x[k, v] <= gp.quicksum(x[k, u] for u in graph[k].neighbors(v) \n",
    "                                               for k in range(N) for v in nodes), name=f'edge_constraint_{u}_{v}')\n",
    "\n",
    "    # Optimize the model\n",
    "    model.optimize()\n",
    "    \n",
    "    # Get Objective value\n",
    "    obj = model.getObjective().getValue()\n",
    "    ys = [v for v in nodes if y[v].x == 1]\n",
    "    \n",
    "    return model, obj, ys"
   ]
  },
  {
   "cell_type": "markdown",
   "id": "a5acc434",
   "metadata": {},
   "source": [
    "## SAA Algo"
   ]
  },
  {
   "cell_type": "code",
   "execution_count": 78,
   "id": "2a42c97c",
   "metadata": {},
   "outputs": [],
   "source": [
    "def SAA_phase1(input_graph, B, C, num_sample = 50, num_train = 10,):\n",
    "    sol_lst = []\n",
    "    obj_ub_lst = []\n",
    "    for _ in range(num_sample):\n",
    "        # For each sample, generate num_train of training cascades.\n",
    "        graphs = [simulate_cascade(input_graph) for _ in range(num_train)]\n",
    "        model, obj, ys = solve_max_spread(graphs, B, C)\n",
    "        sol_lst.append(ys)\n",
    "        obj_ub_lst.append(obj)\n",
    "        \n",
    "    return sol_lst, obj_ub_lst"
   ]
  },
  {
   "cell_type": "code",
   "execution_count": 58,
   "id": "6f1ab445",
   "metadata": {},
   "outputs": [],
   "source": [
    "def SAA_phase2(input_graph, sol_lst, num_sample = 50, num_train = 10, num_valid = 500, num_test = 500):\n",
    "    # Choose the best solution by re-estimating using num_valid training cascades.\n",
    "    obj_lst = []\n",
    "    for i in range(num_sample):\n",
    "        graphs = [simulate_cascade(input_graph) for _ in range(num_valid)]\n",
    "        obj = simulate_fixed_y_cascade(graphs, sol_lst[i])\n",
    "        obj_lst.append(obj)\n",
    "\n",
    "    y_opt = sol_lst[np.argmax(obj_lst)]\n",
    "    # Generate num_test training cascades fro testing the best solution.\n",
    "    graphs = [simulate_cascade(input_graph) for _ in range(num_test)]\n",
    "    obj_opt = simulate_fixed_y_cascade(graphs, y_opt)\n",
    "    \n",
    "    return y_opt, obj_opt"
   ]
  },
  {
   "cell_type": "markdown",
   "id": "e1c0563c",
   "metadata": {},
   "source": [
    "## Experiment"
   ]
  },
  {
   "cell_type": "markdown",
   "id": "2af3b764",
   "metadata": {},
   "source": [
    "### Random DAG"
   ]
  },
  {
   "cell_type": "code",
   "execution_count": 5,
   "id": "dee16572",
   "metadata": {},
   "outputs": [],
   "source": [
    "# Create a random graph\n",
    "G = nx.gnp_random_graph(30000, 0.01, seed=0, directed=True)"
   ]
  },
  {
   "cell_type": "code",
   "execution_count": 6,
   "id": "81ddc85b",
   "metadata": {},
   "outputs": [
    {
     "data": {
      "text/plain": [
       "True"
      ]
     },
     "execution_count": 6,
     "metadata": {},
     "output_type": "execute_result"
    }
   ],
   "source": [
    "# Create a directed acyclic graph by only keeping edges that point from lower (newer) indices to higher (older)\n",
    "# There's a directed edge between paper i and paper j if paper i cites paper j.\n",
    "DAG = nx.DiGraph([(u,v) for (u,v) in G.edges() if u<v])\n",
    "nx.is_directed_acyclic_graph(DAG)"
   ]
  },
  {
   "cell_type": "code",
   "execution_count": 11,
   "id": "711d2f31",
   "metadata": {},
   "outputs": [
    {
     "data": {
      "text/plain": [
       "4500512"
      ]
     },
     "execution_count": 11,
     "metadata": {},
     "output_type": "execute_result"
    }
   ],
   "source": [
    "len(DAG.edges)"
   ]
  },
  {
   "cell_type": "code",
   "execution_count": 44,
   "id": "c2ca9023",
   "metadata": {},
   "outputs": [
    {
     "data": {
      "text/plain": [
       "25077"
      ]
     },
     "execution_count": 44,
     "metadata": {},
     "output_type": "execute_result"
    }
   ],
   "source": [
    "# Create a random graph (smaller instance)\n",
    "G2 = nx.gnp_random_graph(500, 0.2, seed=0, directed=True)\n",
    "\n",
    "# Create a directed acyclic graph by only keeping edges that point from lower (newer) indices to higher (older)\n",
    "# There's a directed edge between paper i and paper j if paper i cites paper j.\n",
    "DAG2 = nx.DiGraph([(u,v) for (u,v) in G2.edges() if u<v])\n",
    "nx.is_directed_acyclic_graph(DAG2)\n",
    "\n",
    "len(DAG2.edges)"
   ]
  },
  {
   "cell_type": "code",
   "execution_count": 85,
   "id": "2c38c62a",
   "metadata": {},
   "outputs": [],
   "source": [
    "B = 15\n",
    "np.random.seed(0)\n",
    "C = [np.random.uniform(0, 100) for _ in range(len(DAG2))]"
   ]
  },
  {
   "cell_type": "code",
   "execution_count": 97,
   "id": "99ace8c5",
   "metadata": {},
   "outputs": [
    {
     "ename": "NameError",
     "evalue": "name 'graph' is not defined",
     "output_type": "error",
     "traceback": [
      "\u001b[1;31m---------------------------------------------------------------------------\u001b[0m",
      "\u001b[1;31mNameError\u001b[0m                                 Traceback (most recent call last)",
      "\u001b[1;32m~\\AppData\\Local\\Temp\\ipykernel_19680\\2895821511.py\u001b[0m in \u001b[0;36m<module>\u001b[1;34m\u001b[0m\n\u001b[1;32m----> 1\u001b[1;33m \u001b[0mSAA_phase1\u001b[0m\u001b[1;33m(\u001b[0m\u001b[0mDAG2\u001b[0m\u001b[1;33m,\u001b[0m \u001b[0mB\u001b[0m\u001b[1;33m,\u001b[0m \u001b[0mC\u001b[0m\u001b[1;33m,\u001b[0m \u001b[0mnum_sample\u001b[0m \u001b[1;33m=\u001b[0m \u001b[1;36m50\u001b[0m\u001b[1;33m,\u001b[0m \u001b[0mnum_train\u001b[0m \u001b[1;33m=\u001b[0m \u001b[1;36m10\u001b[0m\u001b[1;33m)\u001b[0m\u001b[1;33m\u001b[0m\u001b[1;33m\u001b[0m\u001b[0m\n\u001b[0m",
      "\u001b[1;32m~\\AppData\\Local\\Temp\\ipykernel_19680\\2381949302.py\u001b[0m in \u001b[0;36mSAA_phase1\u001b[1;34m(input_graph, B, C, num_sample, num_train)\u001b[0m\n\u001b[0;32m      5\u001b[0m         \u001b[1;31m# For each sample, generate num_train of training cascades.\u001b[0m\u001b[1;33m\u001b[0m\u001b[1;33m\u001b[0m\u001b[0m\n\u001b[0;32m      6\u001b[0m         \u001b[0mgraphs\u001b[0m \u001b[1;33m=\u001b[0m \u001b[1;33m[\u001b[0m\u001b[0msimulate_cascade\u001b[0m\u001b[1;33m(\u001b[0m\u001b[0minput_graph\u001b[0m\u001b[1;33m)\u001b[0m \u001b[1;32mfor\u001b[0m \u001b[0m_\u001b[0m \u001b[1;32min\u001b[0m \u001b[0mrange\u001b[0m\u001b[1;33m(\u001b[0m\u001b[0mnum_train\u001b[0m\u001b[1;33m)\u001b[0m\u001b[1;33m]\u001b[0m\u001b[1;33m\u001b[0m\u001b[1;33m\u001b[0m\u001b[0m\n\u001b[1;32m----> 7\u001b[1;33m         \u001b[0mmodel\u001b[0m\u001b[1;33m,\u001b[0m \u001b[0mobj\u001b[0m\u001b[1;33m,\u001b[0m \u001b[0mys\u001b[0m \u001b[1;33m=\u001b[0m \u001b[0msolve_max_spread\u001b[0m\u001b[1;33m(\u001b[0m\u001b[0mgraphs\u001b[0m\u001b[1;33m,\u001b[0m \u001b[0mB\u001b[0m\u001b[1;33m,\u001b[0m \u001b[0mC\u001b[0m\u001b[1;33m)\u001b[0m\u001b[1;33m\u001b[0m\u001b[1;33m\u001b[0m\u001b[0m\n\u001b[0m\u001b[0;32m      8\u001b[0m         \u001b[0msol_lst\u001b[0m\u001b[1;33m.\u001b[0m\u001b[0mappend\u001b[0m\u001b[1;33m(\u001b[0m\u001b[0mys\u001b[0m\u001b[1;33m)\u001b[0m\u001b[1;33m\u001b[0m\u001b[1;33m\u001b[0m\u001b[0m\n\u001b[0;32m      9\u001b[0m         \u001b[0mobj_ub_lst\u001b[0m\u001b[1;33m.\u001b[0m\u001b[0mappend\u001b[0m\u001b[1;33m(\u001b[0m\u001b[0mobj\u001b[0m\u001b[1;33m)\u001b[0m\u001b[1;33m\u001b[0m\u001b[1;33m\u001b[0m\u001b[0m\n",
      "\u001b[1;32m~\\AppData\\Local\\Temp\\ipykernel_19680\\2963364344.py\u001b[0m in \u001b[0;36msolve_max_spread\u001b[1;34m(graphs, B, C)\u001b[0m\n\u001b[0;32m     40\u001b[0m     \u001b[1;31m# Add the edge constraints\u001b[0m\u001b[1;33m\u001b[0m\u001b[1;33m\u001b[0m\u001b[0m\n\u001b[0;32m     41\u001b[0m     \u001b[1;32mfor\u001b[0m \u001b[0mv\u001b[0m \u001b[1;32min\u001b[0m \u001b[0mnodes\u001b[0m\u001b[1;33m:\u001b[0m\u001b[1;33m\u001b[0m\u001b[1;33m\u001b[0m\u001b[0m\n\u001b[1;32m---> 42\u001b[1;33m         model.addConstrs(x[k, v] <= gp.quicksum(x[k, u] for u in graph[k].neighbors(v) \n\u001b[0m\u001b[0;32m     43\u001b[0m                                                for k in range(N) for v in nodes), name=f'edge_constraint_{u}_{v}')\n\u001b[0;32m     44\u001b[0m \u001b[1;33m\u001b[0m\u001b[0m\n",
      "\u001b[1;31mNameError\u001b[0m: name 'graph' is not defined"
     ]
    }
   ],
   "source": [
    "SAA_phase1(DAG2, B, C, num_sample = 50, num_train = 10)"
   ]
  },
  {
   "cell_type": "code",
   "execution_count": null,
   "id": "c394ebd2",
   "metadata": {},
   "outputs": [],
   "source": []
  }
 ],
 "metadata": {
  "kernelspec": {
   "display_name": "Python 3 (ipykernel)",
   "language": "python",
   "name": "python3"
  },
  "language_info": {
   "codemirror_mode": {
    "name": "ipython",
    "version": 3
   },
   "file_extension": ".py",
   "mimetype": "text/x-python",
   "name": "python",
   "nbconvert_exporter": "python",
   "pygments_lexer": "ipython3",
   "version": "3.9.13"
  }
 },
 "nbformat": 4,
 "nbformat_minor": 5
}
