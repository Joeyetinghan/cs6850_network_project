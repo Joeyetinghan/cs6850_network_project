{
 "cells": [
  {
   "cell_type": "code",
   "execution_count": 286,
   "metadata": {},
   "outputs": [],
   "source": [
    "import json\n",
    "import numpy as np\n",
    "import networkx as nx\n",
    "import gurobipy as gp\n",
    "from gurobipy import *\n",
    "import random\n",
    "import copy\n",
    "np.random.seed(0)"
   ]
  },
  {
   "cell_type": "code",
   "execution_count": 287,
   "metadata": {},
   "outputs": [
    {
     "name": "stdout",
     "output_type": "stream",
     "text": [
      "(9, 5, 1)\n"
     ]
    }
   ],
   "source": [
    "print(gp.gurobi.version())"
   ]
  },
  {
   "cell_type": "code",
   "execution_count": null,
   "metadata": {},
   "outputs": [],
   "source": []
  },
  {
   "cell_type": "markdown",
   "metadata": {},
   "source": [
    "## Cascade Functions"
   ]
  },
  {
   "cell_type": "code",
   "execution_count": 288,
   "metadata": {},
   "outputs": [],
   "source": [
    "def simulate_cascade(G, p_lb=0, p_ub=1):\n",
    "    \"\"\"\n",
    "    Simulate a cascade in graph by flipping coins for all edges in G to construct a subgraph G'\n",
    "    \n",
    "    Parameters:\n",
    "    G (networkx.Graph): The graph on which to run the model.\n",
    "    \n",
    "    Returns:\n",
    "    G_prime (networkx.Graph): A subgraph of G\n",
    "    \"\"\"\n",
    "    \n",
    "    G_prime = copy.deepcopy(G)\n",
    "    \n",
    "    removed_edges = []\n",
    "    for e in G.edges:\n",
    "        u = np.random.uniform()\n",
    "        if u < G[e[0]][e[1]]['weight']:\n",
    "            removed_edges.append(e)\n",
    "    \n",
    "    G_prime.remove_edges_from(removed_edges)\n",
    "    \n",
    "    \n",
    "    return G_prime"
   ]
  },
  {
   "cell_type": "code",
   "execution_count": 309,
   "metadata": {},
   "outputs": [],
   "source": [
    "def simulate_fixed_y_cascade(G, ys):\n",
    "    '''\n",
    "    Simulate a cascade with fixed initial set of nodes\n",
    "    '''\n",
    "    # Set all nodes as not activated\n",
    "    activated = set()\n",
    "    # Add the seed nodes to the activated set\n",
    "    activated.update(set(ys))\n",
    "    # Initialize the newly activated nodes list with the seed nodes\n",
    "    newly_activated = set(ys)\n",
    "    \n",
    "    # Run the model until there are no more newly activated nodes\n",
    "    while len(newly_activated) != 0:\n",
    "        temp_activated = set()\n",
    "        for v in newly_activated:\n",
    "            # Check for each successor if it gets activated\n",
    "            for w in G.successors(v):\n",
    "                if w not in activated:\n",
    "                    u = np.random.uniform()\n",
    "                    if u < G[v][w]['weight']:\n",
    "                        temp_activated.add(w)\n",
    "        # Add newly activated nodes to the activated set\n",
    "        newly_activated = temp_activated\n",
    "        activated.update(newly_activated)\n",
    "    \n",
    "    return activated"
   ]
  },
  {
   "cell_type": "markdown",
   "metadata": {},
   "source": [
    "## MIP Model"
   ]
  },
  {
   "cell_type": "code",
   "execution_count": 361,
   "metadata": {},
   "outputs": [],
   "source": [
    "def solve_max_spread(graphs, B, C):\n",
    "    \"\"\"\n",
    "    Solves the MIP model for maximizing the spread of cascades using network design as presented in the paper\n",
    "    \"Maximizing the Spread of Cascades Using Network Design\" by Sheldon et al. for the given graph and budget.\n",
    "    \n",
    "    Parameters:\n",
    "    graphs (list [networkx.Graph]): List of training cascades graphs, which are subgraphs of the original network\n",
    "    budget (int): The budget of edges that can be added to the graph.\n",
    "    costs (list): Cost of each action\n",
    "    \"\"\"\n",
    "    # Initialize the MIP model\n",
    "    model = gp.Model('maximize_spread_cascades')\n",
    "    \n",
    "    # Number of training cascades\n",
    "    N = len(graphs)\n",
    "\n",
    "    # Initialize the decision variables\n",
    "    x = {}\n",
    "    y = {}\n",
    "    \n",
    "    nodes = np.sort(list(graphs[0].nodes))\n",
    "    \n",
    "    for k in range(N):\n",
    "        for v in nodes:\n",
    "            x[k, v] = model.addVar(vtype=GRB.CONTINUOUS, lb = 0, ub = 1, name=f'x_{k}_{v}')\n",
    "    for v in nodes:\n",
    "        y[v] = model.addVar(vtype=GRB.BINARY, name=f'y_{v}') # Asssuming each action corresponds to purchasing one node.\n",
    "\n",
    "    # Initialize the objective function to maximize the expected spread\n",
    "    obj = 1/N * gp.quicksum(x[k, v] for k in range(N) for v in nodes)\n",
    "    model.setObjective(obj, GRB.MAXIMIZE)\n",
    "    \n",
    "    # Add the budget constraint\n",
    "    model.addConstr(gp.quicksum(C[v]*y[v] for v in nodes) <= B, name='budget_constraint')\n",
    "    \n",
    "    # Add the edge constraints\n",
    "    for k in range(N):\n",
    "        for v in nodes:\n",
    "            preds = set(graphs[k].predecessors(v))\n",
    "            if len(preds) != 0:\n",
    "                model.addConstr((x[k, v] <= gp.quicksum(x[k, u] for u in preds)), name=f'edge_constraint_{k}_{v}')\n",
    "\n",
    "    # Add the coverage constraint\n",
    "    model.addConstrs((x[k, v] <= y[v] for v in nodes for k in range(N)), name=f'coverage_constraint_{k}_{v}')\n",
    "    \n",
    "    model.update()\n",
    "\n",
    "    # Optimize the model\n",
    "    model.optimize()\n",
    "    \n",
    "    # Get Objective value\n",
    "    obj = model.getObjective().getValue()\n",
    "    ys = [v for v in nodes if y[v].x == 1]\n",
    "    return model, obj, ys"
   ]
  },
  {
   "cell_type": "markdown",
   "metadata": {},
   "source": [
    "## SAA Algo"
   ]
  },
  {
   "cell_type": "code",
   "execution_count": 292,
   "metadata": {},
   "outputs": [],
   "source": [
    "def SAA_phase1(input_graph, B, C, num_sample = 50, num_train = 10):\n",
    "    sol_lst = []\n",
    "    obj_ub_lst = []\n",
    "    for i in range(num_sample):\n",
    "        np.random.seed(i)\n",
    "        # For each sample, generate num_train of training cascades.\n",
    "        graphs = [simulate_cascade(input_graph) for _ in range(num_train)]\n",
    "        model, obj, ys = solve_max_spread(graphs, B, C)\n",
    "        sol_lst.append(ys)\n",
    "        obj_ub_lst.append(obj)\n",
    "        \n",
    "    return sol_lst, obj_ub_lst"
   ]
  },
  {
   "cell_type": "code",
   "execution_count": 293,
   "metadata": {},
   "outputs": [],
   "source": [
    "def SAA_phase2(input_graph, sol_lst, num_sample = 50, num_train = 10, num_valid = 500, num_test = 500):\n",
    "    # Choose the best solution by re-estimating using num_valid training cascades.\n",
    "    obj_lst = []\n",
    "    for i in range(num_sample):\n",
    "        graphs = [simulate_cascade(input_graph) for _ in range(num_valid)]\n",
    "        obj = simulate_fixed_y_cascade(graphs, sol_lst[i])\n",
    "        obj_lst.append(obj)\n",
    "\n",
    "    y_opt = sol_lst[np.argmax(obj_lst)]\n",
    "    # Generate num_test training cascades fro testing the best solution.\n",
    "    graphs = [simulate_cascade(input_graph) for _ in range(num_test)]\n",
    "    obj_opt = simulate_fixed_y_cascade(graphs, y_opt)\n",
    "    \n",
    "    return y_opt, obj_opt"
   ]
  },
  {
   "cell_type": "markdown",
   "metadata": {},
   "source": [
    "## Experiment"
   ]
  },
  {
   "cell_type": "markdown",
   "metadata": {},
   "source": [
    "### Random DAG"
   ]
  },
  {
   "cell_type": "code",
   "execution_count": 294,
   "metadata": {},
   "outputs": [],
   "source": [
    "# # Create a random graph\n",
    "# G = nx.gnp_random_graph(30000, 0.01, seed=0, directed=True)\n",
    "# # Create a directed acyclic graph by only keeping edges that point from lower (newer) indices to higher (older)\n",
    "# # There's a directed edge between paper i and paper j if paper i cites paper j.\n",
    "# DAG = nx.DiGraph([(u,v) for (u,v) in G.edges() if u<v])\n",
    "# nx.is_directed_acyclic_graph(DAG)\n",
    "# len(DAG.edges)"
   ]
  },
  {
   "cell_type": "code",
   "execution_count": 337,
   "metadata": {},
   "outputs": [
    {
     "name": "stdout",
     "output_type": "stream",
     "text": [
      "Is the graph acyclic: True\n",
      "Num edges:  5\n"
     ]
    }
   ],
   "source": [
    "# Create a random graph (smaller instance)\n",
    "G2 = nx.gnp_random_graph(5, 0.5, seed=0, directed=True)\n",
    "\n",
    "# Create a directed acyclic graph by only keeping edges that point from lower (newer) indices to higher (older)\n",
    "DAG2 = nx.DiGraph()\n",
    "DAG2.add_nodes_from(G2.nodes)\n",
    "DAG2.add_edges_from([(u,v) for (u,v) in G2.edges() if u<v])\n",
    "print('Is the graph acyclic:', nx.is_directed_acyclic_graph(DAG2))\n",
    "print('Num edges: ', len(DAG2.edges))"
   ]
  },
  {
   "cell_type": "code",
   "execution_count": 338,
   "metadata": {},
   "outputs": [],
   "source": [
    "# Add random activation probabilities for each edge\n",
    "np.random.seed(0)\n",
    "for e in DAG2.edges():\n",
    "    DAG2[e[0]][e[1]]['weight'] = np.random.uniform(0, 1)"
   ]
  },
  {
   "cell_type": "code",
   "execution_count": 339,
   "metadata": {},
   "outputs": [],
   "source": [
    "# Input parameters - budget and action cost\n",
    "B = 300\n",
    "np.random.seed(0)\n",
    "# C = [np.random.uniform(0, 100) for _ in range(len(DAG2))]\n",
    "C = 100 * np.ones(len(DAG2))"
   ]
  },
  {
   "cell_type": "code",
   "execution_count": 341,
   "metadata": {},
   "outputs": [],
   "source": [
    "# sol_lst, obj_ub_lst = SAA_phase1(DAG2, B, C, num_sample = 20, num_train = 10)"
   ]
  },
  {
   "cell_type": "code",
   "execution_count": 362,
   "metadata": {},
   "outputs": [
    {
     "name": "stdout",
     "output_type": "stream",
     "text": [
      "Gurobi Optimizer version 9.5.1 build v9.5.1rc2 (mac64[x86])\n",
      "Thread count: 2 physical cores, 4 logical processors, using up to 4 threads\n",
      "Optimize a model with 9 rows, 10 columns and 21 nonzeros\n",
      "Model fingerprint: 0x5d976ded\n",
      "Variable types: 5 continuous, 5 integer (5 binary)\n",
      "Coefficient statistics:\n",
      "  Matrix range     [1e+00, 1e+02]\n",
      "  Objective range  [1e+00, 1e+00]\n",
      "  Bounds range     [1e+00, 1e+00]\n",
      "  RHS range        [3e+02, 3e+02]\n",
      "Found heuristic solution: objective -0.0000000\n",
      "Presolve removed 5 rows and 5 columns\n",
      "Presolve time: 0.00s\n",
      "Presolved: 4 rows, 5 columns, 11 nonzeros\n",
      "Variable types: 0 continuous, 5 integer (5 binary)\n",
      "Found heuristic solution: objective 3.0000000\n",
      "\n",
      "Root relaxation: cutoff, 0 iterations, 0.00 seconds (0.00 work units)\n",
      "\n",
      "Explored 1 nodes (0 simplex iterations) in 0.13 seconds (0.00 work units)\n",
      "Thread count was 4 (of 4 available processors)\n",
      "\n",
      "Solution count 2: 3 -0 \n",
      "\n",
      "Optimal solution found (tolerance 1.00e-04)\n",
      "Best objective 3.000000000000e+00, best bound 3.000000000000e+00, gap 0.0000%\n"
     ]
    }
   ],
   "source": [
    "graphs = [simulate_cascade(DAG2) for _ in range(1)]\n",
    "model, obj, ys = solve_max_spread(graphs, B, C)"
   ]
  },
  {
   "cell_type": "code",
   "execution_count": 363,
   "metadata": {},
   "outputs": [
    {
     "name": "stdout",
     "output_type": "stream",
     "text": [
      "Maximize\n",
      "  <gurobi.LinExpr: x_0_0 + x_0_1 + x_0_2 + x_0_3 + x_0_4>\n",
      "Subject To\n",
      "budget_constraint: <gurobi.LinExpr: 100.0 y_0 + 100.0 y_1 + 100.0 y_2 + 100.0 y_3 +\n",
      " 100.0 y_4> <= 300\n",
      "  edge_constraint_0_2: <gurobi.LinExpr: -1.0 x_0_1 + x_0_2> <= 0\n",
      "  edge_constraint_0_3: <gurobi.LinExpr: -1.0 x_0_0 + x_0_3> <= 0\n",
      "  edge_constraint_0_4: <gurobi.LinExpr: -1.0 x_0_3 + x_0_4> <= 0\n",
      "  coverage_constraint_0_4[0,0]: <gurobi.LinExpr: x_0_0 + -1.0 y_0> <= 0\n",
      "  coverage_constraint_0_4[1,0]: <gurobi.LinExpr: x_0_1 + -1.0 y_1> <= 0\n",
      "  coverage_constraint_0_4[2,0]: <gurobi.LinExpr: x_0_2 + -1.0 y_2> <= 0\n",
      "  coverage_constraint_0_4[3,0]: <gurobi.LinExpr: x_0_3 + -1.0 y_3> <= 0\n",
      "  coverage_constraint_0_4[4,0]: <gurobi.LinExpr: x_0_4 + -1.0 y_4> <= 0\n",
      "Bounds\n",
      "  0 <= x_0_0 <= 1\n",
      "  0 <= x_0_1 <= 1\n",
      "  0 <= x_0_2 <= 1\n",
      "  0 <= x_0_3 <= 1\n",
      "  0 <= x_0_4 <= 1\n",
      "Binaries\n",
      "  ['y_0', 'y_1', 'y_2', 'y_3', 'y_4']\n",
      "None\n"
     ]
    }
   ],
   "source": [
    "print(model.display())"
   ]
  },
  {
   "cell_type": "code",
   "execution_count": 364,
   "metadata": {},
   "outputs": [
    {
     "data": {
      "text/plain": [
       "OutEdgeView([(0, 3), (1, 2), (3, 4)])"
      ]
     },
     "execution_count": 364,
     "metadata": {},
     "output_type": "execute_result"
    }
   ],
   "source": [
    "graphs[0].edges"
   ]
  },
  {
   "cell_type": "code",
   "execution_count": 369,
   "metadata": {},
   "outputs": [
    {
     "data": {
      "text/plain": [
       "[0, 1, 2]"
      ]
     },
     "execution_count": 369,
     "metadata": {},
     "output_type": "execute_result"
    }
   ],
   "source": [
    "ys"
   ]
  },
  {
   "cell_type": "code",
   "execution_count": 370,
   "metadata": {},
   "outputs": [
    {
     "data": {
      "text/plain": [
       "[<gurobi.Var x_0_0 (value 1.0)>,\n",
       " <gurobi.Var x_0_1 (value 1.0)>,\n",
       " <gurobi.Var x_0_2 (value 1.0)>,\n",
       " <gurobi.Var x_0_3 (value 0.0)>,\n",
       " <gurobi.Var x_0_4 (value 0.0)>,\n",
       " <gurobi.Var y_0 (value 1.0)>,\n",
       " <gurobi.Var y_1 (value 1.0)>,\n",
       " <gurobi.Var y_2 (value 1.0)>,\n",
       " <gurobi.Var y_3 (value 0.0)>,\n",
       " <gurobi.Var y_4 (value 0.0)>]"
      ]
     },
     "execution_count": 370,
     "metadata": {},
     "output_type": "execute_result"
    }
   ],
   "source": [
    "model.getVars()"
   ]
  },
  {
   "cell_type": "code",
   "execution_count": 368,
   "metadata": {},
   "outputs": [
    {
     "data": {
      "text/plain": [
       "{0, 1, 2, 3, 4}"
      ]
     },
     "execution_count": 368,
     "metadata": {},
     "output_type": "execute_result"
    }
   ],
   "source": [
    "# print('ys', sol_lst)\n",
    "activated = simulate_fixed_y_cascade(DAG2, ys)\n",
    "activated"
   ]
  },
  {
   "cell_type": "markdown",
   "metadata": {},
   "source": [
    "### Construct network graph from Reddit data"
   ]
  },
  {
   "cell_type": "markdown",
   "metadata": {},
   "source": [
    "Refer to http://snap.stanford.edu/data/web-RedditNetworks.html"
   ]
  },
  {
   "cell_type": "code",
   "execution_count": 5,
   "metadata": {},
   "outputs": [
    {
     "name": "stdout",
     "output_type": "stream",
     "text": [
      "['TedTheGreek_Atheos', 'ptwonline', 'sn00gan', 'TiiziiO', 'caged_raptor']\n"
     ]
    }
   ],
   "source": [
    "# read in networks for subreddit /r/politics\n",
    "with open(\"politics.json\") as fp:\n",
    "    month_nets = json.load(fp)\n",
    "\n",
    "# see who the user sn00gan replied to in the first month\n",
    "print(month_nets[0][\"sn00gan\"])"
   ]
  },
  {
   "cell_type": "code",
   "execution_count": 6,
   "metadata": {},
   "outputs": [],
   "source": [
    "# Create graph\n",
    "G = nx.DiGraph()\n",
    "for i in range(len(month_nets)):\n",
    "    for k,v in month_nets[i].items():\n",
    "        for vs in v:\n",
    "            G.add_edge(k, vs)"
   ]
  },
  {
   "cell_type": "code",
   "execution_count": 7,
   "metadata": {},
   "outputs": [
    {
     "data": {
      "text/plain": [
       "1688750"
      ]
     },
     "execution_count": 7,
     "metadata": {},
     "output_type": "execute_result"
    }
   ],
   "source": [
    "len(G.edges)"
   ]
  },
  {
   "cell_type": "code",
   "execution_count": 8,
   "metadata": {},
   "outputs": [
    {
     "data": {
      "text/plain": [
       "119780"
      ]
     },
     "execution_count": 8,
     "metadata": {},
     "output_type": "execute_result"
    }
   ],
   "source": [
    "len(G.nodes)"
   ]
  },
  {
   "cell_type": "code",
   "execution_count": 124,
   "metadata": {},
   "outputs": [
    {
     "data": {
      "text/plain": [
       "[(1, 2), (2, 3)]"
      ]
     },
     "execution_count": 124,
     "metadata": {},
     "output_type": "execute_result"
    }
   ],
   "source": [
    "G = nx.Graph()  # or DiGraph, etc\n",
    "nx.add_path(G, [0, 1, 2, 3])\n",
    "G.remove_edges_from([(0, 1)])\n",
    "list(G.nodes)\n",
    "list(G.edges)"
   ]
  },
  {
   "cell_type": "code",
   "execution_count": null,
   "metadata": {},
   "outputs": [],
   "source": []
  }
 ],
 "metadata": {
  "kernelspec": {
   "display_name": "Python 3",
   "language": "python",
   "name": "python3"
  },
  "language_info": {
   "codemirror_mode": {
    "name": "ipython",
    "version": 3
   },
   "file_extension": ".py",
   "mimetype": "text/x-python",
   "name": "python",
   "nbconvert_exporter": "python",
   "pygments_lexer": "ipython3",
   "version": "3.7.6"
  }
 },
 "nbformat": 4,
 "nbformat_minor": 5
}
