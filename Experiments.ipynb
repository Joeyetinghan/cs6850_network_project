{
 "cells": [
  {
   "cell_type": "code",
   "execution_count": 9,
   "id": "27fce4fe",
   "metadata": {},
   "outputs": [],
   "source": [
    "import json\n",
    "import networkx as nx"
   ]
  },
  {
   "attachments": {},
   "cell_type": "markdown",
   "id": "2af3b764",
   "metadata": {},
   "source": [
    "## Random DAG"
   ]
  },
  {
   "cell_type": "code",
   "execution_count": null,
   "id": "dee16572",
   "metadata": {},
   "outputs": [],
   "source": [
    "# Create a random graph\n",
    "G = nx.gnp_random_graph(30000, 0.1, seed=0, directed=True)\n",
    "\n",
    "# Create a directed acyclic graph by only keeping edges that point from lower (newer) indices to higher (older)\n",
    "# There's a directed edge between paper i and paper j if paper i cites paper j.\n",
    "DAG = nx.DiGraph([(u,v) for (u,v) in G.edges() if u<v])\n",
    "nx.is_directed_acyclic_graph(DAG)"
   ]
  },
  {
   "cell_type": "code",
   "execution_count": null,
   "id": "81ddc85b",
   "metadata": {},
   "outputs": [],
   "source": []
  },
  {
   "cell_type": "markdown",
   "id": "76a6d676",
   "metadata": {},
   "source": [
    "## Construct network graph from Reddit data"
   ]
  },
  {
   "cell_type": "markdown",
   "id": "a7f2e79d",
   "metadata": {},
   "source": [
    "Refer to http://snap.stanford.edu/data/web-RedditNetworks.html"
   ]
  },
  {
   "cell_type": "code",
   "execution_count": 10,
   "id": "f67837fe",
   "metadata": {},
   "outputs": [
    {
     "name": "stdout",
     "output_type": "stream",
     "text": [
      "['TedTheGreek_Atheos', 'ptwonline', 'sn00gan', 'TiiziiO', 'caged_raptor']\n"
     ]
    }
   ],
   "source": [
    "# read in networks for subreddit /r/politics\n",
    "with open(\"politics.json\") as fp:\n",
    "    month_nets = json.load(fp)\n",
    "\n",
    "# see who the user sn00gan replied to in the first month\n",
    "print(month_nets[0][\"sn00gan\"])"
   ]
  },
  {
   "cell_type": "code",
   "execution_count": 22,
   "id": "d27ba93a",
   "metadata": {},
   "outputs": [],
   "source": [
    "# Create graph\n",
    "G = nx.DiGraph()\n",
    "for i in range(len(month_nets)):\n",
    "    for k,v in month_nets[i].items():\n",
    "        for vs in v:\n",
    "            G.add_edge(k, vs)"
   ]
  },
  {
   "cell_type": "code",
   "execution_count": 26,
   "id": "7a7be932",
   "metadata": {},
   "outputs": [
    {
     "data": {
      "text/plain": [
       "1688750"
      ]
     },
     "execution_count": 26,
     "metadata": {},
     "output_type": "execute_result"
    }
   ],
   "source": [
    "len(G.edges)"
   ]
  },
  {
   "cell_type": "code",
   "execution_count": 27,
   "id": "7e4d7159",
   "metadata": {},
   "outputs": [
    {
     "data": {
      "text/plain": [
       "119780"
      ]
     },
     "execution_count": 27,
     "metadata": {},
     "output_type": "execute_result"
    }
   ],
   "source": [
    "len(G.nodes)"
   ]
  },
  {
   "cell_type": "markdown",
   "id": "3f6bf173",
   "metadata": {},
   "source": [
    "## MIP Model"
   ]
  },
  {
   "cell_type": "code",
   "execution_count": 28,
   "id": "5b6eceb2",
   "metadata": {},
   "outputs": [],
   "source": [
    "import gurobipy as gp\n",
    "import random"
   ]
  },
  {
   "cell_type": "code",
   "execution_count": 32,
   "id": "29a333f1",
   "metadata": {},
   "outputs": [],
   "source": [
    "# TODO: change p to be different for every edge and output a cascade subgraph\n",
    "def independent_cascade(graph, seeds, p):\n",
    "    \"\"\"\n",
    "    Runs the independent cascade model on the given graph with the given seed nodes and infection probability.\n",
    "    \n",
    "    Parameters:\n",
    "    graph (networkx.Graph): The graph on which to run the model.\n",
    "    seeds (list): The seed nodes from which the infection starts.\n",
    "    p (float): The probability of a node getting infected from an infected neighbor.\n",
    "    \n",
    "    Returns:\n",
    "    list: A list of nodes that got infected during the simulation.\n",
    "    \"\"\"\n",
    "    # Set all nodes as not infected\n",
    "    infected = set()\n",
    "    # Add the seed nodes to the infected set\n",
    "    infected.update(seeds)\n",
    "    # Initialize the newly infected nodes list with the seed nodes\n",
    "    newly_infected = set(seeds)\n",
    "    \n",
    "    # Run the model until there are no more newly infected nodes\n",
    "    while newly_infected:\n",
    "        # Get the neighbors of all newly infected nodes\n",
    "        neighbors = set()\n",
    "        for node in newly_infected:\n",
    "            neighbors.update(set(graph.neighbors(node)))\n",
    "        # Remove already infected and immune neighbors\n",
    "        neighbors -= infected\n",
    "        # Check for each neighbor if it gets infected\n",
    "        newly_infected = set()\n",
    "        for node in neighbors:\n",
    "            if random.random() <= p:\n",
    "                newly_infected.add(node)\n",
    "        # Add newly infected nodes to the infected set\n",
    "        infected.update(newly_infected)\n",
    "    return list(infected)"
   ]
  },
  {
   "cell_type": "code",
   "execution_count": 31,
   "id": "8daca913",
   "metadata": {},
   "outputs": [],
   "source": [
    "def maximize_spread_cascades(graphs, budget, costs, seeds):\n",
    "    \"\"\"\n",
    "    Solves the MIP model for maximizing the spread of cascades using network design as presented in the paper\n",
    "    \"Maximizing the Spread of Cascades Using Network Design\" by Sheldon et al. for the given graph and budget.\n",
    "    \n",
    "    Parameters:\n",
    "    graphs (list [networkx.Graph]): List of training cascades graphs, which are subgraphs of the original network\n",
    "    budget (int): The budget of edges that can be added to the graph.\n",
    "    costs (list): Cost of each action\n",
    "    \"\"\"\n",
    "    # Initialize the MIP model\n",
    "    model = gp.Model('maximize_spread_cascades')\n",
    "    \n",
    "    # Number of training cascades\n",
    "    N = len(graphs)\n",
    "\n",
    "    # Initialize the decision variables\n",
    "    x = {}\n",
    "    y = {}\n",
    "    \n",
    "    for k in range(N):\n",
    "        for v in graph.edges:\n",
    "            x[k, v] = model.addVar(vtype=GRB.COUTINUOUS, lb = 0, ub = 1, name=f'x_{k}_{v}')\n",
    "    for v in graph.nodes:\n",
    "        y[v] = model.addVar(vtype=GRB.BINARY, name=f'y_{v}')\n",
    "\n",
    "    # Initialize the objective function to maximize the expected spread\n",
    "    obj = 1/N * gp.quicksum(x[k, v] for k in range(N) for v in graphs[k].nodes)\n",
    "    model.setObjective(obj, GRB.MAXIMIZE)\n",
    "\n",
    "    # Add the budget constraint\n",
    "    model.addConstr(gp.quicksum(cost[v]*y[v] for v in graphs[k].nodes) <= budget, name='budget_constraint')\n",
    "\n",
    "    # Add the coverage constraint\n",
    "    for v in graph.nodes:\n",
    "        model.addConstr((x[k, v] <= y[v] for v in graphs[k].nodes for k in range(N)), name=f'coverage_constraint_{k}_{v}')\n",
    "\n",
    "    # Add the edge constraints\n",
    "    for u, v in graph.edges:\n",
    "        model.addConstr(x[k, v] <= gp.quicksum(x[k, u] for u in graph[k].neighbors(v) \n",
    "                                               for k in range(N) for v in (set(graph[k].nodes) - set(seeds))), name=f'edge_constraint_{u}_{v}')\n",
    "\n",
    "    # Optimize the model\n",
    "    model.optimize()"
   ]
  },
  {
   "cell_type": "code",
   "execution_count": null,
   "id": "2a42c97c",
   "metadata": {},
   "outputs": [],
   "source": []
  }
 ],
 "metadata": {
  "kernelspec": {
   "display_name": "Python 3 (ipykernel)",
   "language": "python",
   "name": "python3"
  },
  "language_info": {
   "codemirror_mode": {
    "name": "ipython",
    "version": 3
   },
   "file_extension": ".py",
   "mimetype": "text/x-python",
   "name": "python",
   "nbconvert_exporter": "python",
   "pygments_lexer": "ipython3",
   "version": "3.9.13"
  }
 },
 "nbformat": 4,
 "nbformat_minor": 5
}
