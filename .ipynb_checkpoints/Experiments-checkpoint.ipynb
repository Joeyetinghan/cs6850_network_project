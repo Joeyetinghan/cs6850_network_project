{
 "cells": [
  {
   "cell_type": "code",
   "execution_count": 248,
   "id": "3c04f0f8",
   "metadata": {},
   "outputs": [],
   "source": [
    "import json\n",
    "import numpy as np\n",
    "import networkx as nx\n",
    "import gurobipy as gp\n",
    "from gurobipy import *\n",
    "import random\n",
    "import copy\n",
    "np.random.seed(0)\n",
    "from tqdm import tqdm\n",
    "import time\n",
    "import collections"
   ]
  },
  {
   "cell_type": "code",
   "execution_count": 249,
   "id": "230009f7",
   "metadata": {},
   "outputs": [
    {
     "name": "stdout",
     "output_type": "stream",
     "text": [
      "(10, 0, 1)\n"
     ]
    }
   ],
   "source": [
    "print(gp.gurobi.version())"
   ]
  },
  {
   "cell_type": "markdown",
   "id": "f1afef18",
   "metadata": {},
   "source": [
    "## Cascade Functions"
   ]
  },
  {
   "cell_type": "code",
   "execution_count": 250,
   "id": "f61c0417",
   "metadata": {},
   "outputs": [],
   "source": [
    "def simulate_cascade(G, p_lb=0, p_ub=1):\n",
    "    \"\"\"\n",
    "    Simulate a cascade in graph by flipping coins for all edges in G to construct a subgraph G'\n",
    "    \n",
    "    Parameters:\n",
    "    G (networkx.Graph): The graph on which to run the model.\n",
    "    \n",
    "    Returns:\n",
    "    G_prime (networkx.Graph): A subgraph of G\n",
    "    \"\"\"\n",
    "    \n",
    "    G_prime = G.copy()\n",
    "    \n",
    "    removed_edges = [e for e in G.edges if np.random.uniform() < G[e[0]][e[1]]['weight']]\n",
    "    \n",
    "    G_prime.remove_edges_from(removed_edges)\n",
    "    \n",
    "    return G_prime"
   ]
  },
  {
   "cell_type": "code",
   "execution_count": 251,
   "id": "a114ffc5",
   "metadata": {},
   "outputs": [],
   "source": [
    "def simulate_fixed_y_cascade(G, ys):\n",
    "    '''\n",
    "    Simulate a cascade with fixed initial set of nodes\n",
    "    '''\n",
    "    # Set all nodes as not activated\n",
    "    activated = set()\n",
    "    # Add the seed nodes to the activated set\n",
    "    activated.update(set(ys))\n",
    "    # Initialize the newly activated nodes list with the seed nodes\n",
    "    newly_activated = set(ys)\n",
    "    \n",
    "    # Run the model until there are no more newly activated nodes\n",
    "    while len(newly_activated) != 0:\n",
    "        temp_activated = set()\n",
    "        for v in newly_activated:\n",
    "            # Check for each successor if it gets activated\n",
    "            for w in G.successors(v):\n",
    "                if w not in activated:\n",
    "                    u = np.random.uniform()\n",
    "                    if u < G[v][w]['weight']:\n",
    "                        temp_activated.add(w)\n",
    "        # Add newly activated nodes to the activated set\n",
    "        newly_activated = temp_activated\n",
    "        activated.update(newly_activated)\n",
    "    \n",
    "    return len(activated)"
   ]
  },
  {
   "cell_type": "code",
   "execution_count": 252,
   "id": "173b8389",
   "metadata": {},
   "outputs": [],
   "source": [
    "def simulate_fixed_y_fixed_cascade(sub_G, ys):\n",
    "    '''\n",
    "    Simulate a cascade with fixed initial set of nodes\n",
    "    '''\n",
    "    # Set all nodes as not activated\n",
    "    activated = set()\n",
    "    # Add the seed nodes to the activated set\n",
    "    activated.update(set(ys))\n",
    "    # Initialize the newly activated nodes list with the seed nodes\n",
    "    newly_activated = set(ys)\n",
    "    \n",
    "    # Run the model until there are no more newly activated nodes\n",
    "    while len(newly_activated) != 0:\n",
    "        temp_activated = set()\n",
    "        for v in newly_activated:\n",
    "            # Check for each successor if it gets activated\n",
    "            for w in sub_G.successors(v):\n",
    "                temp_activated.add(w)\n",
    "        # Add newly activated nodes to the activated set\n",
    "        newly_activated = temp_activated\n",
    "        activated.update(newly_activated)\n",
    "    \n",
    "    return len(activated)"
   ]
  },
  {
   "cell_type": "markdown",
   "id": "52c0cc6c",
   "metadata": {},
   "source": [
    "## MIP Model"
   ]
  },
  {
   "cell_type": "code",
   "execution_count": 253,
   "id": "0c696130",
   "metadata": {},
   "outputs": [],
   "source": [
    "# def solve_max_spread(graphs, B, C):\n",
    "#     \"\"\"\n",
    "#     Solves the MIP model for maximizing the spread of cascades using network design as presented in the paper\n",
    "#     \"Maximizing the Spread of Cascades Using Network Design\" by Sheldon et al. for the given graph and budget.\n",
    "    \n",
    "#     Parameters:\n",
    "#     graphs (list [networkx.Graph]): List of training cascades graphs, which are subgraphs of the original network\n",
    "#     budget (int): The budget of edges that can be added to the graph.\n",
    "#     costs (list): Cost of each action\n",
    "#     \"\"\"\n",
    "#     # Initialize the MIP model\n",
    "#     model = gp.Model('maximize_spread_cascades')\n",
    "    \n",
    "#     # Number of training cascades\n",
    "#     N = len(graphs)\n",
    "\n",
    "#     # Initialize the decision variables\n",
    "#     x = {}\n",
    "#     y = {}\n",
    "    \n",
    "#     nodes = np.sort(list(graphs[0].nodes))\n",
    "    \n",
    "#     for k in range(N):\n",
    "#         for v in nodes:\n",
    "#             x[k, v] = model.addVar(vtype=GRB.CONTINUOUS, lb = 0, ub = 1, name=f'x_{k}_{v}')\n",
    "#     for v in nodes:\n",
    "#         y[v] = model.addVar(vtype=GRB.BINARY, name=f'y_{v}') # Asssuming each action corresponds to purchasing one node.\n",
    "\n",
    "#     # Initialize the objective function to maximize the expected spread\n",
    "#     obj = 1/N * gp.quicksum(x[k, v] for k in range(N) for v in nodes)\n",
    "#     model.setObjective(obj, GRB.MAXIMIZE)\n",
    "    \n",
    "#     # Add the budget constraint\n",
    "#     model.addConstr(gp.quicksum(C[v]*y[v] for v in nodes) <= B, name='budget_constraint')\n",
    "    \n",
    "#     # Add the edge constraints\n",
    "#     for k in range(N):\n",
    "#         for v in nodes:\n",
    "#             preds = set(graphs[k].predecessors(v))\n",
    "#             if len(preds) != 0:\n",
    "#                 model.addConstr((x[k, v] <= gp.quicksum(x[k, u] for u in preds)), name=f'edge_constraint_{k}_{v}')\n",
    "\n",
    "#     # Add the coverage constraint\n",
    "#     model.addConstrs((x[k, v] <= y[v] for v in nodes for k in range(N)), name=f'coverage_constraint_{k}_{v}')\n",
    "    \n",
    "#     model.update()\n",
    "\n",
    "#     # Optimize the model\n",
    "#     model.optimize()\n",
    "    \n",
    "#     # Get Objective value\n",
    "#     obj = model.getObjective().getValue()\n",
    "#     ys = [v for v in nodes if y[v].x == 1]\n",
    "#     return model, obj, ys"
   ]
  },
  {
   "cell_type": "code",
   "execution_count": 254,
   "id": "63a024b9",
   "metadata": {},
   "outputs": [],
   "source": [
    "def solve_max_spread(pres, B, C, N, nodes):\n",
    "    \"\"\"\n",
    "    Parameters:\n",
    "    pres (dict): Set of all predecessor nodes (including the node itself) pres[k, i] who can activate node i in scenario k.\n",
    "    B (int): The budget of edges that can be added to the graph.\n",
    "    C (list): Cost of each action\n",
    "    N (int): Number of training cascades\n",
    "    \"\"\"\n",
    "    # Initialize the MIP model\n",
    "    model = gp.Model('maximize_spread_cascades')\n",
    "\n",
    "    # Initialize the decision variables\n",
    "    x = {}\n",
    "    y = {}\n",
    "        \n",
    "    for k in range(N):\n",
    "        for v in nodes:\n",
    "            x[k, v] = model.addVar(vtype=GRB.CONTINUOUS, lb = 0, ub = 1, name=f'x_{k}_{v}')\n",
    "    for v in nodes:\n",
    "        y[v] = model.addVar(vtype=GRB.BINARY, name=f'y_{v}') # Asssuming each action corresponds to purchasing one node.\n",
    "\n",
    "    # Initialize the objective function to maximize the expected spread\n",
    "    obj = 1/N * gp.quicksum(x[k, v] for k in range(N) for v in nodes)\n",
    "    model.setObjective(obj, GRB.MAXIMIZE)\n",
    "    \n",
    "    # Add the budget constraint\n",
    "    model.addConstr(gp.quicksum(C[v]*y[v] for v in nodes) <= B, name='budget_constraint')\n",
    "\n",
    "    # Add the coverage constraint\n",
    "    model.addConstrs((x[k, v] <= gp.quicksum(y[j] for j in pres[k, v]) for v in nodes for k in range(N)), \n",
    "                     name=f'coverage_constraint_{k}_{v}')\n",
    "    \n",
    "    model.update()\n",
    "\n",
    "    # Optimize the model\n",
    "    model.optimize()\n",
    "    \n",
    "    # Get Objective value\n",
    "    obj = model.getObjective().getValue()\n",
    "    ys = [v for v in nodes if y[v].x == 1]\n",
    "    return model, obj, ys"
   ]
  },
  {
   "cell_type": "code",
   "execution_count": 255,
   "id": "b2eed2f5",
   "metadata": {},
   "outputs": [],
   "source": [
    "def find_pres(graphs):\n",
    "    '''\n",
    "    Return set of all predecessor nodes who can activate node i in scenario k\n",
    "    '''\n",
    "    pres = {}\n",
    "    for k in range(len(graphs)):\n",
    "        G = graphs[k]\n",
    "        print(f'finding predecessors for scenario {k+1}')\n",
    "        for i in G.nodes:\n",
    "            pres[k, i] = set([i])\n",
    "            # Start BFS from node i\n",
    "            visited = set()\n",
    "            queue = collections.deque([i])\n",
    "            while queue:\n",
    "                node = queue.popleft()\n",
    "                if node not in visited:\n",
    "                    visited.add(node)\n",
    "                    for predecessor in G.predecessors(node):\n",
    "                        if predecessor not in visited:\n",
    "                            pres[k,i].add(predecessor)\n",
    "                            queue.append(predecessor)\n",
    "    return pres"
   ]
  },
  {
   "cell_type": "markdown",
   "id": "434f22dc",
   "metadata": {},
   "source": [
    "## SAA Algo"
   ]
  },
  {
   "cell_type": "code",
   "execution_count": 256,
   "id": "6677f179",
   "metadata": {},
   "outputs": [],
   "source": [
    "def SAA_phase1(input_graph, B, C, num_sample = 50, num_train = 10):\n",
    "    sol_lst = []\n",
    "    obj_ub_lst = []\n",
    "    for i in range(num_sample):\n",
    "        print(f'currently in SAA phase 1 {i+1}th sample')\n",
    "        np.random.seed(i)\n",
    "        # For each sample, generate num_train of training cascades.\n",
    "        graphs = [simulate_cascade(input_graph) for _ in range(num_train)]\n",
    "        # Find predecessors of each node in each realization.\n",
    "        pres = find_pres(graphs)\n",
    "        model, obj, ys = solve_max_spread(pres, B, C, num_train, input_graph.nodes)\n",
    "        sol_lst.append(ys)\n",
    "        obj_ub_lst.append(obj)\n",
    "        \n",
    "    return sol_lst, obj_ub_lst"
   ]
  },
  {
   "cell_type": "code",
   "execution_count": 257,
   "id": "9959d2cb",
   "metadata": {},
   "outputs": [],
   "source": [
    "def SAA_phase2(input_graph, sol_lst, num_valid = 500, num_test = 500):\n",
    "    print('SAA phase 2')\n",
    "    # Choose the best solution by re-estimating using num_valid training cascades.\n",
    "    obj_avg_lst = [np.mean([simulate_fixed_y_cascade(input_graph, sol)\n",
    "                            for _ in range(num_valid)]) for sol in tqdm(sol_lst)]\n",
    "\n",
    "    y_opt = sol_lst[np.argmax(obj_avg_lst)]\n",
    "    # Generate num_test replications for testing the best solution.\n",
    "    obj_lb_lst = [simulate_fixed_y_cascade(input_graph, y_opt) for _ in range(num_test)]\n",
    "    \n",
    "    return y_opt, obj_lb_lst"
   ]
  },
  {
   "cell_type": "code",
   "execution_count": 258,
   "id": "547ab845",
   "metadata": {},
   "outputs": [],
   "source": [
    "def main_algo(G, B, C, num_sample, num_train, num_valid, num_test):\n",
    "    start_time = time.perf_counter()\n",
    "    \n",
    "    sol_lst, obj_ub_lst = SAA_phase1(G, B, C, num_sample = num_sample, num_train = num_train)\n",
    "    y_opt, obj_lb_lst = SAA_phase2(G, sol_lst, num_valid = num_valid, num_test = num_test)\n",
    "    \n",
    "    end_time = time.perf_counter()\n",
    "    cpu_time = end_time - start_time\n",
    "    print(\"CPU time:\", cpu_time)\n",
    "\n",
    "    t_critical = t.ppf(0.975, num_sample-1)\n",
    "    ub_mean = np.mean(obj_ub_lst)\n",
    "    ub_error = t_critical*(np.std(obj_ub_lst)/np.sqrt(num_sample))\n",
    "    ub_CI_lower = ub_mean - ub_error \n",
    "    ub_CI_upper = ub_mean + ub_error \n",
    "    print(\"95% Confidence Interval of upper bound estimate: [{:.2f}, {:.2f}]\".format(ub_CI_lower, ub_CI_upper))\n",
    "\n",
    "    lb_mean = np.mean(obj_lb_lst)\n",
    "    lb_error = 1.96*(np.std(obj_lb_lst)/np.sqrt(num_test))\n",
    "    lb_CI_lower = lb_mean-lb_error\n",
    "    lb_CI_upper = lb_mean+lb_error\n",
    "    print(\"95% Confidence Interval of lower bound estimate: [{:.2f}, {:.2f}]\".format(lb_CI_lower, lb_CI_upper))\n",
    "    \n",
    "    opt_gap = round(100 * (ub_mean - lb_mean) / ub_mean, 3)\n",
    "    print(\"Estimated optimality gap is: \", opt_gap, \"%\")\n",
    "    \n",
    "\n",
    "    return y_opt, ub_mean, ub_error, lb_mean, lb_error, cpu_time, opt_gap"
   ]
  },
  {
   "cell_type": "markdown",
   "id": "8706bf85",
   "metadata": {},
   "source": [
    "## Experiment"
   ]
  },
  {
   "cell_type": "markdown",
   "id": "e4d8495f",
   "metadata": {},
   "source": [
    "### 1. Random DAG"
   ]
  },
  {
   "cell_type": "code",
   "execution_count": 259,
   "id": "f481b97c",
   "metadata": {},
   "outputs": [
    {
     "name": "stdout",
     "output_type": "stream",
     "text": [
      "Is the graph acyclic: True\n",
      "Num edges:  5\n"
     ]
    }
   ],
   "source": [
    "# Create a random Gnp graph.\n",
    "G = nx.gnp_random_graph(5, 0.5, seed=0, directed=True)\n",
    "\n",
    "# Create a directed acyclic graph by only keeping edges that point from lower (newer) indices to higher (older).\n",
    "DAG = nx.DiGraph()\n",
    "DAG.add_nodes_from(G.nodes)\n",
    "DAG.add_edges_from([(u,v) for (u,v) in G.edges() if u<v])\n",
    "print('Is the graph acyclic:', nx.is_directed_acyclic_graph(DAG))\n",
    "print('Num edges: ', len(DAG.edges))"
   ]
  },
  {
   "cell_type": "code",
   "execution_count": 260,
   "id": "3b423cde",
   "metadata": {},
   "outputs": [],
   "source": [
    "# Add random activation probabilities for each edge\n",
    "np.random.seed(0)\n",
    "for e in DAG.edges():\n",
    "    DAG[e[0]][e[1]]['weight'] = np.random.uniform(0, 1)"
   ]
  },
  {
   "cell_type": "code",
   "execution_count": 261,
   "id": "dc774ce9",
   "metadata": {},
   "outputs": [],
   "source": [
    "# Input parameters - budget and action cost\n",
    "B = 300\n",
    "np.random.seed(0)\n",
    "# Cost of each node is uniformly distribution from (0, 100)\n",
    "# C = [np.random.uniform(0, 100) for _ in range(len(DAG))]\n",
    "C = 100 * np.ones(len(DAG))"
   ]
  },
  {
   "cell_type": "markdown",
   "id": "ae988d43",
   "metadata": {},
   "source": [
    "Test 1.1: "
   ]
  },
  {
   "cell_type": "code",
   "execution_count": 262,
   "id": "eff26104",
   "metadata": {},
   "outputs": [
    {
     "name": "stdout",
     "output_type": "stream",
     "text": [
      "finding predecessors for scenario 1\n"
     ]
    }
   ],
   "source": [
    "np.random.seed(0)\n",
    "graphs = [simulate_cascade(DAG) for _ in range(1)]\n",
    "pres = find_pres(graphs)"
   ]
  },
  {
   "cell_type": "code",
   "execution_count": 263,
   "id": "549af81c",
   "metadata": {},
   "outputs": [
    {
     "data": {
      "text/plain": [
       "OutEdgeView([(0, 3), (0, 4), (1, 2), (1, 4), (3, 4)])"
      ]
     },
     "execution_count": 263,
     "metadata": {},
     "output_type": "execute_result"
    }
   ],
   "source": [
    "graphs[0].edges"
   ]
  },
  {
   "cell_type": "code",
   "execution_count": 264,
   "id": "bd222664",
   "metadata": {},
   "outputs": [
    {
     "data": {
      "text/plain": [
       "{(0, 0): {0},\n",
       " (0, 1): {1},\n",
       " (0, 2): {1, 2},\n",
       " (0, 3): {0, 3},\n",
       " (0, 4): {0, 1, 3, 4}}"
      ]
     },
     "execution_count": 264,
     "metadata": {},
     "output_type": "execute_result"
    }
   ],
   "source": [
    "pres"
   ]
  },
  {
   "cell_type": "code",
   "execution_count": 265,
   "id": "a5903272",
   "metadata": {},
   "outputs": [
    {
     "name": "stdout",
     "output_type": "stream",
     "text": [
      "Gurobi Optimizer version 10.0.1 build v10.0.1rc0 (win64)\n",
      "\n",
      "CPU model: Intel(R) Core(TM) i7-9750H CPU @ 2.60GHz, instruction set [SSE2|AVX|AVX2]\n",
      "Thread count: 6 physical cores, 12 logical processors, using up to 12 threads\n",
      "\n",
      "Optimize a model with 6 rows, 10 columns and 20 nonzeros\n",
      "Model fingerprint: 0xb43dba0d\n",
      "Variable types: 5 continuous, 5 integer (5 binary)\n",
      "Coefficient statistics:\n",
      "  Matrix range     [1e+00, 1e+02]\n",
      "  Objective range  [1e+00, 1e+00]\n",
      "  Bounds range     [1e+00, 1e+00]\n",
      "  RHS range        [3e+02, 3e+02]\n",
      "Found heuristic solution: objective -0.0000000\n",
      "Presolve removed 6 rows and 10 columns\n",
      "Presolve time: 0.00s\n",
      "Presolve: All rows and columns removed\n",
      "\n",
      "Explored 0 nodes (0 simplex iterations) in 0.01 seconds (0.00 work units)\n",
      "Thread count was 1 (of 12 available processors)\n",
      "\n",
      "Solution count 2: 5 -0 \n",
      "\n",
      "Optimal solution found (tolerance 1.00e-04)\n",
      "Best objective 5.000000000000e+00, best bound 5.000000000000e+00, gap 0.0000%\n"
     ]
    }
   ],
   "source": [
    "model, obj, ys = solve_max_spread(pres, B, C, 1, graphs[0].nodes)"
   ]
  },
  {
   "cell_type": "code",
   "execution_count": 266,
   "id": "47385b79",
   "metadata": {},
   "outputs": [
    {
     "data": {
      "text/plain": [
       "5"
      ]
     },
     "execution_count": 266,
     "metadata": {},
     "output_type": "execute_result"
    }
   ],
   "source": [
    "simulate_fixed_y_fixed_cascade(graphs[0], ys)"
   ]
  },
  {
   "cell_type": "markdown",
   "id": "eb6eea1d",
   "metadata": {},
   "source": [
    "### 2. Reddit Interaction Network"
   ]
  },
  {
   "cell_type": "markdown",
   "id": "616c6492",
   "metadata": {},
   "source": [
    "Refer to http://snap.stanford.edu/data/web-RedditNetworks.html"
   ]
  },
  {
   "cell_type": "code",
   "execution_count": 267,
   "id": "f2c155e5",
   "metadata": {},
   "outputs": [
    {
     "name": "stdout",
     "output_type": "stream",
     "text": [
      "['TedTheGreek_Atheos', 'ptwonline', 'sn00gan', 'TiiziiO', 'caged_raptor']\n"
     ]
    }
   ],
   "source": [
    "# read in networks for subreddit /r/politics\n",
    "with open(\"politics.json\") as fp:\n",
    "    month_nets = json.load(fp)\n",
    "\n",
    "# see who the user sn00gan replied to in the first month\n",
    "print(month_nets[0][\"sn00gan\"])"
   ]
  },
  {
   "cell_type": "code",
   "execution_count": 268,
   "id": "474bb882",
   "metadata": {},
   "outputs": [],
   "source": [
    "# Create graph\n",
    "G2 = nx.DiGraph()\n",
    "for i in range(len(month_nets)):\n",
    "    for k,v in month_nets[i].items():\n",
    "        for vs in v:\n",
    "            G2.add_edge(k, vs)"
   ]
  },
  {
   "cell_type": "code",
   "execution_count": 269,
   "id": "9a99f009",
   "metadata": {},
   "outputs": [
    {
     "data": {
      "text/plain": [
       "1688750"
      ]
     },
     "execution_count": 269,
     "metadata": {},
     "output_type": "execute_result"
    }
   ],
   "source": [
    "len(G2.edges)"
   ]
  },
  {
   "cell_type": "code",
   "execution_count": 270,
   "id": "2fd0c9d6",
   "metadata": {},
   "outputs": [
    {
     "data": {
      "text/plain": [
       "119780"
      ]
     },
     "execution_count": 270,
     "metadata": {},
     "output_type": "execute_result"
    }
   ],
   "source": [
    "len(G2.nodes)"
   ]
  },
  {
   "cell_type": "markdown",
   "id": "ee47adb0",
   "metadata": {},
   "source": [
    "**Potential variables: number of edges (size of network), budget, num_train**\n",
    "\n",
    "**Performance measures: seed set size, CPU time, optimality gap, lb CI, ub CI**"
   ]
  },
  {
   "cell_type": "markdown",
   "id": "aee4d0fc",
   "metadata": {},
   "source": [
    "Experiment 2.1: Varying bugdet from 20 to 200. Num edges - fixed as 5000; num trains - fixed as 20."
   ]
  },
  {
   "cell_type": "code",
   "execution_count": 283,
   "id": "015d4f7e",
   "metadata": {},
   "outputs": [
    {
     "name": "stderr",
     "output_type": "stream",
     "text": [
      "C:\\Users\\USER\\AppData\\Local\\Temp\\ipykernel_18940\\1613497201.py:4: DeprecationWarning: Sampling from a set deprecated\n",
      "since Python 3.9 and will be removed in a subsequent version.\n",
      "  subgraph_edges = random.sample(G2.edges(), num_edges)\n"
     ]
    },
    {
     "name": "stdout",
     "output_type": "stream",
     "text": [
      "Num nodes: 3225\n",
      "Num edges: 2000\n"
     ]
    }
   ],
   "source": [
    "# Choose a random subgraph with the specified number of edges\n",
    "num_edges = 2000\n",
    "random.seed(10)\n",
    "subgraph_edges = random.sample(G2.edges(), num_edges)\n",
    "sub_G2 = G2.edge_subgraph(subgraph_edges)\n",
    "print('Num nodes:', len(sub_G2))\n",
    "print('Num edges:', len(sub_G2.edges))"
   ]
  },
  {
   "cell_type": "code",
   "execution_count": 284,
   "id": "8f65da2e",
   "metadata": {},
   "outputs": [],
   "source": [
    "# Add random activation probabilities for each edge\n",
    "np.random.seed(0)\n",
    "for e in sub_G2.edges():\n",
    "    sub_G2[e[0]][e[1]]['weight'] = np.random.uniform(0, 1)\n",
    "\n",
    "np.random.seed(0)\n",
    "# Cost of each node is uniformly distribution from (0, 100)\n",
    "C = {v: np.random.uniform(0, 100) for v in sub_G2.nodes}"
   ]
  },
  {
   "cell_type": "code",
   "execution_count": null,
   "id": "202489dd",
   "metadata": {
    "scrolled": true
   },
   "outputs": [
    {
     "name": "stdout",
     "output_type": "stream",
     "text": [
      "running experiment B = 20....\n",
      "currently in SAA phase 1 1th sample\n",
      "finding predecessors for scenario 1\n",
      "finding predecessors for scenario 2\n",
      "finding predecessors for scenario 3\n",
      "finding predecessors for scenario 4\n",
      "finding predecessors for scenario 5\n",
      "finding predecessors for scenario 6\n",
      "finding predecessors for scenario 7\n",
      "finding predecessors for scenario 8\n",
      "finding predecessors for scenario 9\n",
      "finding predecessors for scenario 10\n",
      "Gurobi Optimizer version 10.0.1 build v10.0.1rc0 (win64)\n",
      "\n",
      "CPU model: Intel(R) Core(TM) i7-9750H CPU @ 2.60GHz, instruction set [SSE2|AVX|AVX2]\n",
      "Thread count: 6 physical cores, 12 logical processors, using up to 12 threads\n",
      "\n",
      "Optimize a model with 32251 rows, 35475 columns and 80363 nonzeros\n",
      "Model fingerprint: 0xa3ad7e7b\n",
      "Variable types: 32250 continuous, 3225 integer (3225 binary)\n",
      "Coefficient statistics:\n",
      "  Matrix range     [7e-03, 1e+02]\n",
      "  Objective range  [1e-01, 1e-01]\n",
      "  Bounds range     [1e+00, 1e+00]\n",
      "  RHS range        [2e+01, 2e+01]\n",
      "Found heuristic solution: objective -0.0000000\n",
      "Presolve removed 32117 rows and 34947 columns\n",
      "Presolve time: 0.06s\n",
      "Presolved: 134 rows, 528 columns, 842 nonzeros\n",
      "Variable types: 0 continuous, 528 integer (528 binary)\n",
      "Found heuristic solution: objective 31.2000000\n",
      "\n",
      "Root relaxation: objective 5.939384e+01, 2 iterations, 0.00 seconds (0.00 work units)\n",
      "\n",
      "    Nodes    |    Current Node    |     Objective Bounds      |     Work\n",
      " Expl Unexpl |  Obj  Depth IntInf | Incumbent    BestBd   Gap | It/Node Time\n",
      "\n",
      "     0     0   59.39384    0    1   31.20000   59.39384  90.4%     -    0s\n",
      "H    0     0                      58.8000000   59.39384  1.01%     -    0s\n",
      "H    0     0                      58.9000000   59.39384  0.84%     -    0s\n",
      "\n",
      "Explored 1 nodes (2 simplex iterations) in 0.11 seconds (0.05 work units)\n",
      "Thread count was 12 (of 12 available processors)\n",
      "\n",
      "Solution count 4: 58.9 58.8 31.2 -0 \n",
      "\n",
      "Optimal solution found (tolerance 1.00e-04)\n",
      "Best objective 5.890000000000e+01, best bound 5.890000000000e+01, gap 0.0000%\n",
      "currently in SAA phase 1 2th sample\n",
      "finding predecessors for scenario 1\n",
      "finding predecessors for scenario 2\n",
      "finding predecessors for scenario 3\n",
      "finding predecessors for scenario 4\n",
      "finding predecessors for scenario 5\n",
      "finding predecessors for scenario 6\n",
      "finding predecessors for scenario 7\n",
      "finding predecessors for scenario 8\n",
      "finding predecessors for scenario 9\n",
      "finding predecessors for scenario 10\n",
      "Gurobi Optimizer version 10.0.1 build v10.0.1rc0 (win64)\n",
      "\n",
      "CPU model: Intel(R) Core(TM) i7-9750H CPU @ 2.60GHz, instruction set [SSE2|AVX|AVX2]\n",
      "Thread count: 6 physical cores, 12 logical processors, using up to 12 threads\n",
      "\n",
      "Optimize a model with 32251 rows, 35475 columns and 79018 nonzeros\n",
      "Model fingerprint: 0x26df2919\n",
      "Variable types: 32250 continuous, 3225 integer (3225 binary)\n",
      "Coefficient statistics:\n",
      "  Matrix range     [7e-03, 1e+02]\n",
      "  Objective range  [1e-01, 1e-01]\n",
      "  Bounds range     [1e+00, 1e+00]\n",
      "  RHS range        [2e+01, 2e+01]\n",
      "Found heuristic solution: objective -0.0000000\n",
      "Presolve removed 32132 rows and 34972 columns\n",
      "Presolve time: 0.05s\n",
      "Presolved: 119 rows, 503 columns, 769 nonzeros\n",
      "Variable types: 0 continuous, 503 integer (503 binary)\n",
      "Found heuristic solution: objective 34.4000000\n",
      "\n",
      "Root relaxation: objective 5.924987e+01, 2 iterations, 0.00 seconds (0.00 work units)\n",
      "\n",
      "    Nodes    |    Current Node    |     Objective Bounds      |     Work\n",
      " Expl Unexpl |  Obj  Depth IntInf | Incumbent    BestBd   Gap | It/Node Time\n",
      "\n",
      "     0     0   59.24987    0    2   34.40000   59.24987  72.2%     -    0s\n",
      "H    0     0                      58.7000000   59.24987  0.94%     -    0s\n",
      "H    0     0                      59.0000000   59.24987  0.42%     -    0s\n",
      "\n",
      "Cutting planes:\n",
      "  Cover: 1\n",
      "\n",
      "Explored 1 nodes (2 simplex iterations) in 0.11 seconds (0.05 work units)\n",
      "Thread count was 12 (of 12 available processors)\n",
      "\n",
      "Solution count 4: 59 58.7 34.4 -0 \n",
      "\n",
      "Optimal solution found (tolerance 1.00e-04)\n",
      "Best objective 5.900000000000e+01, best bound 5.900000000000e+01, gap 0.0000%\n",
      "currently in SAA phase 1 3th sample\n",
      "finding predecessors for scenario 1\n",
      "finding predecessors for scenario 2\n",
      "finding predecessors for scenario 3\n",
      "finding predecessors for scenario 4\n",
      "finding predecessors for scenario 5\n",
      "finding predecessors for scenario 6\n",
      "finding predecessors for scenario 7\n",
      "finding predecessors for scenario 8\n",
      "finding predecessors for scenario 9\n",
      "finding predecessors for scenario 10\n",
      "Gurobi Optimizer version 10.0.1 build v10.0.1rc0 (win64)\n",
      "\n",
      "CPU model: Intel(R) Core(TM) i7-9750H CPU @ 2.60GHz, instruction set [SSE2|AVX|AVX2]\n",
      "Thread count: 6 physical cores, 12 logical processors, using up to 12 threads\n",
      "\n",
      "Optimize a model with 32251 rows, 35475 columns and 78913 nonzeros\n",
      "Model fingerprint: 0x40bdedd0\n",
      "Variable types: 32250 continuous, 3225 integer (3225 binary)\n",
      "Coefficient statistics:\n",
      "  Matrix range     [7e-03, 1e+02]\n",
      "  Objective range  [1e-01, 1e-01]\n",
      "  Bounds range     [1e+00, 1e+00]\n",
      "  RHS range        [2e+01, 2e+01]\n",
      "Found heuristic solution: objective -0.0000000\n",
      "Presolve removed 32141 rows and 34980 columns\n",
      "Presolve time: 0.05s\n",
      "Presolved: 110 rows, 495 columns, 745 nonzeros\n",
      "Variable types: 0 continuous, 495 integer (495 binary)\n",
      "Found heuristic solution: objective 43.9000000\n",
      "\n",
      "Root relaxation: objective 5.989572e+01, 1 iterations, 0.00 seconds (0.00 work units)\n",
      "\n",
      "    Nodes    |    Current Node    |     Objective Bounds      |     Work\n",
      " Expl Unexpl |  Obj  Depth IntInf | Incumbent    BestBd   Gap | It/Node Time\n",
      "\n",
      "     0     0   59.89572    0    1   43.90000   59.89572  36.4%     -    0s\n",
      "H    0     0                      59.2000000   59.89572  1.18%     -    0s\n",
      "H    0     0                      59.6000000   59.89572  0.50%     -    0s\n",
      "\n",
      "Cutting planes:\n",
      "  StrongCG: 1\n",
      "\n",
      "Explored 1 nodes (1 simplex iterations) in 0.10 seconds (0.05 work units)\n",
      "Thread count was 12 (of 12 available processors)\n",
      "\n",
      "Solution count 4: 59.6 59.2 43.9 -0 \n",
      "\n",
      "Optimal solution found (tolerance 1.00e-04)\n",
      "Best objective 5.960000000000e+01, best bound 5.960000000000e+01, gap 0.0000%\n",
      "currently in SAA phase 1 4th sample\n",
      "finding predecessors for scenario 1\n",
      "finding predecessors for scenario 2\n",
      "finding predecessors for scenario 3\n",
      "finding predecessors for scenario 4\n",
      "finding predecessors for scenario 5\n",
      "finding predecessors for scenario 6\n",
      "finding predecessors for scenario 7\n",
      "finding predecessors for scenario 8\n",
      "finding predecessors for scenario 9\n",
      "finding predecessors for scenario 10\n",
      "Gurobi Optimizer version 10.0.1 build v10.0.1rc0 (win64)\n",
      "\n",
      "CPU model: Intel(R) Core(TM) i7-9750H CPU @ 2.60GHz, instruction set [SSE2|AVX|AVX2]\n",
      "Thread count: 6 physical cores, 12 logical processors, using up to 12 threads\n",
      "\n",
      "Optimize a model with 32251 rows, 35475 columns and 78771 nonzeros\n",
      "Model fingerprint: 0x37c48ba8\n",
      "Variable types: 32250 continuous, 3225 integer (3225 binary)\n",
      "Coefficient statistics:\n",
      "  Matrix range     [7e-03, 1e+02]\n",
      "  Objective range  [1e-01, 1e-01]\n",
      "  Bounds range     [1e+00, 1e+00]\n",
      "  RHS range        [2e+01, 2e+01]\n",
      "Found heuristic solution: objective -0.0000000\n",
      "Presolve removed 32135 rows and 34969 columns\n",
      "Presolve time: 0.05s\n",
      "Presolved: 116 rows, 506 columns, 766 nonzeros\n",
      "Variable types: 0 continuous, 506 integer (506 binary)\n",
      "Found heuristic solution: objective 33.9000000\n",
      "\n",
      "Root relaxation: objective 5.729572e+01, 1 iterations, 0.00 seconds (0.00 work units)\n",
      "\n",
      "    Nodes    |    Current Node    |     Objective Bounds      |     Work\n",
      " Expl Unexpl |  Obj  Depth IntInf | Incumbent    BestBd   Gap | It/Node Time\n",
      "\n",
      "     0     0   57.29572    0    1   33.90000   57.29572  69.0%     -    0s\n",
      "H    0     0                      56.6000000   57.29572  1.23%     -    0s\n",
      "H    0     0                      57.0000000   57.29572  0.52%     -    0s\n",
      "\n",
      "Explored 1 nodes (1 simplex iterations) in 0.09 seconds (0.05 work units)\n",
      "Thread count was 12 (of 12 available processors)\n",
      "\n",
      "Solution count 4: 57 56.6 33.9 -0 \n",
      "\n",
      "Optimal solution found (tolerance 1.00e-04)\n",
      "Best objective 5.700000000000e+01, best bound 5.700000000000e+01, gap 0.0000%\n",
      "currently in SAA phase 1 5th sample\n",
      "finding predecessors for scenario 1\n",
      "finding predecessors for scenario 2\n",
      "finding predecessors for scenario 3\n",
      "finding predecessors for scenario 4\n",
      "finding predecessors for scenario 5\n",
      "finding predecessors for scenario 6\n",
      "finding predecessors for scenario 7\n",
      "finding predecessors for scenario 8\n",
      "finding predecessors for scenario 9\n",
      "finding predecessors for scenario 10\n"
     ]
    },
    {
     "name": "stdout",
     "output_type": "stream",
     "text": [
      "Gurobi Optimizer version 10.0.1 build v10.0.1rc0 (win64)\n",
      "\n",
      "CPU model: Intel(R) Core(TM) i7-9750H CPU @ 2.60GHz, instruction set [SSE2|AVX|AVX2]\n",
      "Thread count: 6 physical cores, 12 logical processors, using up to 12 threads\n",
      "\n",
      "Optimize a model with 32251 rows, 35475 columns and 78911 nonzeros\n",
      "Model fingerprint: 0xb007dbc3\n",
      "Variable types: 32250 continuous, 3225 integer (3225 binary)\n",
      "Coefficient statistics:\n",
      "  Matrix range     [7e-03, 1e+02]\n",
      "  Objective range  [1e-01, 1e-01]\n",
      "  Bounds range     [1e+00, 1e+00]\n",
      "  RHS range        [2e+01, 2e+01]\n",
      "Found heuristic solution: objective -0.0000000\n",
      "Presolve removed 32147 rows and 34991 columns\n",
      "Presolve time: 0.04s\n",
      "Presolved: 104 rows, 484 columns, 722 nonzeros\n",
      "Variable types: 0 continuous, 484 integer (484 binary)\n",
      "Found heuristic solution: objective 42.5000000\n",
      "\n",
      "Root relaxation: objective 5.879572e+01, 1 iterations, 0.00 seconds (0.00 work units)\n",
      "\n",
      "    Nodes    |    Current Node    |     Objective Bounds      |     Work\n",
      " Expl Unexpl |  Obj  Depth IntInf | Incumbent    BestBd   Gap | It/Node Time\n",
      "\n",
      "     0     0   58.79572    0    1   42.50000   58.79572  38.3%     -    0s\n",
      "H    0     0                      58.2000000   58.79572  1.02%     -    0s\n",
      "H    0     0                      58.5000000   58.79572  0.51%     -    0s\n",
      "\n",
      "Cutting planes:\n",
      "  Cover: 1\n",
      "\n",
      "Explored 1 nodes (1 simplex iterations) in 0.09 seconds (0.05 work units)\n",
      "Thread count was 12 (of 12 available processors)\n",
      "\n",
      "Solution count 4: 58.5 58.2 42.5 -0 \n",
      "\n",
      "Optimal solution found (tolerance 1.00e-04)\n",
      "Best objective 5.850000000000e+01, best bound 5.850000000000e+01, gap 0.0000%\n",
      "currently in SAA phase 1 6th sample\n",
      "finding predecessors for scenario 1\n",
      "finding predecessors for scenario 2\n",
      "finding predecessors for scenario 3\n",
      "finding predecessors for scenario 4\n",
      "finding predecessors for scenario 5\n",
      "finding predecessors for scenario 6\n",
      "finding predecessors for scenario 7\n",
      "finding predecessors for scenario 8\n",
      "finding predecessors for scenario 9\n",
      "finding predecessors for scenario 10\n",
      "Gurobi Optimizer version 10.0.1 build v10.0.1rc0 (win64)\n",
      "\n",
      "CPU model: Intel(R) Core(TM) i7-9750H CPU @ 2.60GHz, instruction set [SSE2|AVX|AVX2]\n",
      "Thread count: 6 physical cores, 12 logical processors, using up to 12 threads\n",
      "\n",
      "Optimize a model with 32251 rows, 35475 columns and 79118 nonzeros\n",
      "Model fingerprint: 0xa92b625d\n",
      "Variable types: 32250 continuous, 3225 integer (3225 binary)\n",
      "Coefficient statistics:\n",
      "  Matrix range     [7e-03, 1e+02]\n",
      "  Objective range  [1e-01, 1e-01]\n",
      "  Bounds range     [1e+00, 1e+00]\n",
      "  RHS range        [2e+01, 2e+01]\n",
      "Found heuristic solution: objective -0.0000000\n",
      "Presolve removed 32143 rows and 34985 columns\n",
      "Presolve time: 0.04s\n",
      "Presolved: 108 rows, 490 columns, 739 nonzeros\n",
      "Variable types: 0 continuous, 490 integer (490 binary)\n",
      "Found heuristic solution: objective 41.0000000\n",
      "\n",
      "Root relaxation: objective 5.775230e+01, 2 iterations, 0.00 seconds (0.00 work units)\n",
      "\n",
      "    Nodes    |    Current Node    |     Objective Bounds      |     Work\n",
      " Expl Unexpl |  Obj  Depth IntInf | Incumbent    BestBd   Gap | It/Node Time\n",
      "\n",
      "     0     0   57.75230    0    2   41.00000   57.75230  40.9%     -    0s\n",
      "H    0     0                      56.9000000   57.75230  1.50%     -    0s\n",
      "H    0     0                      57.4000000   57.75230  0.61%     -    0s\n",
      "     0     0   57.59232    0    4   57.40000   57.59232  0.34%     -    0s\n",
      "     0     0   57.59232    0    1   57.40000   57.59232  0.34%     -    0s\n",
      "     0     0   57.40000    0    2   57.40000   57.40000  0.00%     -    0s\n",
      "\n",
      "Cutting planes:\n",
      "  Gomory: 1\n",
      "  Cover: 1\n",
      "\n",
      "Explored 1 nodes (8 simplex iterations) in 0.11 seconds (0.05 work units)\n",
      "Thread count was 12 (of 12 available processors)\n",
      "\n",
      "Solution count 4: 57.4 56.9 41 -0 \n",
      "\n",
      "Optimal solution found (tolerance 1.00e-04)\n",
      "Best objective 5.740000000000e+01, best bound 5.740000000000e+01, gap 0.0000%\n",
      "currently in SAA phase 1 7th sample\n",
      "finding predecessors for scenario 1\n",
      "finding predecessors for scenario 2\n",
      "finding predecessors for scenario 3\n",
      "finding predecessors for scenario 4\n",
      "finding predecessors for scenario 5\n",
      "finding predecessors for scenario 6\n",
      "finding predecessors for scenario 7\n",
      "finding predecessors for scenario 8\n",
      "finding predecessors for scenario 9\n",
      "finding predecessors for scenario 10\n",
      "Gurobi Optimizer version 10.0.1 build v10.0.1rc0 (win64)\n",
      "\n",
      "CPU model: Intel(R) Core(TM) i7-9750H CPU @ 2.60GHz, instruction set [SSE2|AVX|AVX2]\n",
      "Thread count: 6 physical cores, 12 logical processors, using up to 12 threads\n",
      "\n",
      "Optimize a model with 32251 rows, 35475 columns and 79041 nonzeros\n",
      "Model fingerprint: 0x90c0a8fa\n",
      "Variable types: 32250 continuous, 3225 integer (3225 binary)\n",
      "Coefficient statistics:\n",
      "  Matrix range     [7e-03, 1e+02]\n",
      "  Objective range  [1e-01, 1e-01]\n",
      "  Bounds range     [1e+00, 1e+00]\n",
      "  RHS range        [2e+01, 2e+01]\n",
      "Found heuristic solution: objective -0.0000000\n",
      "Presolve removed 32136 rows and 34975 columns\n",
      "Presolve time: 0.05s\n",
      "Presolved: 115 rows, 500 columns, 755 nonzeros\n",
      "Variable types: 0 continuous, 500 integer (500 binary)\n",
      "Found heuristic solution: objective 42.0000000\n",
      "\n",
      "Root relaxation: objective 5.920217e+01, 2 iterations, 0.00 seconds (0.00 work units)\n",
      "\n",
      "    Nodes    |    Current Node    |     Objective Bounds      |     Work\n",
      " Expl Unexpl |  Obj  Depth IntInf | Incumbent    BestBd   Gap | It/Node Time\n",
      "\n",
      "     0     0   59.20217    0    1   42.00000   59.20217  41.0%     -    0s\n",
      "H    0     0                      58.9000000   59.20217  0.51%     -    0s\n",
      "\n",
      "Cutting planes:\n",
      "  Cover: 1\n",
      "\n",
      "Explored 1 nodes (2 simplex iterations) in 0.09 seconds (0.05 work units)\n",
      "Thread count was 12 (of 12 available processors)\n",
      "\n",
      "Solution count 3: 58.9 42 -0 \n",
      "\n",
      "Optimal solution found (tolerance 1.00e-04)\n",
      "Best objective 5.890000000000e+01, best bound 5.890000000000e+01, gap 0.0000%\n"
     ]
    }
   ],
   "source": [
    "# Run the algo with B in the set {20, 40, 60, 80, 100, 120, 140, 160, 180, 200}\n",
    "num_sample = 50\n",
    "num_train = 10\n",
    "num_valid = 500\n",
    "num_test = 500\n",
    "\n",
    "outputs = []\n",
    "for B in [20, 40, 60, 80, 100, 120, 140, 160, 180, 200]:\n",
    "    print(f'running experiment B = {B}....')\n",
    "    output = main_algo(sub_G2, B, C, num_sample, num_train, num_valid, num_test)\n",
    "    outputs.append(output)"
   ]
  },
  {
   "cell_type": "code",
   "execution_count": null,
   "id": "b78237ee",
   "metadata": {},
   "outputs": [],
   "source": []
  }
 ],
 "metadata": {
  "kernelspec": {
   "display_name": "Python 3 (ipykernel)",
   "language": "python",
   "name": "python3"
  },
  "language_info": {
   "codemirror_mode": {
    "name": "ipython",
    "version": 3
   },
   "file_extension": ".py",
   "mimetype": "text/x-python",
   "name": "python",
   "nbconvert_exporter": "python",
   "pygments_lexer": "ipython3",
   "version": "3.9.13"
  }
 },
 "nbformat": 4,
 "nbformat_minor": 5
}
