{
 "cells": [
  {
   "cell_type": "code",
   "execution_count": 3,
   "metadata": {},
   "outputs": [],
   "source": [
    "import json\n",
    "import numpy as np\n",
    "import networkx as nx\n",
    "import gurobipy as gp\n",
    "from gurobipy import *\n",
    "import random\n",
    "import copy\n",
    "np.random.seed(0)"
   ]
  },
  {
   "cell_type": "code",
   "execution_count": 4,
   "metadata": {},
   "outputs": [
    {
     "name": "stdout",
     "output_type": "stream",
     "text": [
      "(9, 5, 1)\n"
     ]
    }
   ],
   "source": [
    "print(gp.gurobi.version())"
   ]
  },
  {
   "cell_type": "code",
   "execution_count": null,
   "metadata": {},
   "outputs": [],
   "source": []
  },
  {
   "cell_type": "markdown",
   "metadata": {},
   "source": [
    "## Construct network graph from Reddit data"
   ]
  },
  {
   "cell_type": "markdown",
   "metadata": {},
   "source": [
    "Refer to http://snap.stanford.edu/data/web-RedditNetworks.html"
   ]
  },
  {
   "cell_type": "code",
   "execution_count": 5,
   "metadata": {},
   "outputs": [
    {
     "name": "stdout",
     "output_type": "stream",
     "text": [
      "['TedTheGreek_Atheos', 'ptwonline', 'sn00gan', 'TiiziiO', 'caged_raptor']\n"
     ]
    }
   ],
   "source": [
    "# read in networks for subreddit /r/politics\n",
    "with open(\"politics.json\") as fp:\n",
    "    month_nets = json.load(fp)\n",
    "\n",
    "# see who the user sn00gan replied to in the first month\n",
    "print(month_nets[0][\"sn00gan\"])"
   ]
  },
  {
   "cell_type": "code",
   "execution_count": 6,
   "metadata": {},
   "outputs": [],
   "source": [
    "# Create graph\n",
    "G = nx.DiGraph()\n",
    "for i in range(len(month_nets)):\n",
    "    for k,v in month_nets[i].items():\n",
    "        for vs in v:\n",
    "            G.add_edge(k, vs)"
   ]
  },
  {
   "cell_type": "code",
   "execution_count": 7,
   "metadata": {},
   "outputs": [
    {
     "data": {
      "text/plain": [
       "1688750"
      ]
     },
     "execution_count": 7,
     "metadata": {},
     "output_type": "execute_result"
    }
   ],
   "source": [
    "len(G.edges)"
   ]
  },
  {
   "cell_type": "code",
   "execution_count": 8,
   "metadata": {},
   "outputs": [
    {
     "data": {
      "text/plain": [
       "119780"
      ]
     },
     "execution_count": 8,
     "metadata": {},
     "output_type": "execute_result"
    }
   ],
   "source": [
    "len(G.nodes)"
   ]
  },
  {
   "cell_type": "markdown",
   "metadata": {},
   "source": [
    "## Cascade Functions"
   ]
  },
  {
   "cell_type": "code",
   "execution_count": 9,
   "metadata": {},
   "outputs": [],
   "source": [
    "def simulate_cascade(G, p_lb=0, p_ub=1):\n",
    "    \"\"\"\n",
    "    Simulate a cascade in graph by flipping coins for all edges in G to construct a subgraph G'\n",
    "    \n",
    "    Parameters:\n",
    "    G (networkx.Graph): The graph on which to run the model.\n",
    "    \n",
    "    Returns:\n",
    "    G_prime (networkx.Graph): A subgraph of G\n",
    "    \"\"\"\n",
    "    \n",
    "    G_prime = copy.deepcopy(G)\n",
    "    \n",
    "    removed_edges = []\n",
    "    for e in G.edges:\n",
    "        p = np.random.uniform(p_lb, p_ub)\n",
    "        u = np.random.uniform()\n",
    "        if p < u:\n",
    "            removed_edges.append(e)\n",
    "    \n",
    "    G_prime.remove_edges_from(removed_edges)\n",
    "    \n",
    "    \n",
    "    return G_prime"
   ]
  },
  {
   "cell_type": "code",
   "execution_count": 11,
   "metadata": {},
   "outputs": [],
   "source": [
    "# G_p = simulate_cascade(DAG2)\n",
    "# len(G_p.edges)"
   ]
  },
  {
   "cell_type": "code",
   "execution_count": 100,
   "metadata": {},
   "outputs": [],
   "source": [
    "def simulate_fixed_y_cascade(G, ys, p_lb=0, p_ub=1):\n",
    "    '''\n",
    "    Simulate a cascade with fixed initial set of nodes\n",
    "    '''\n",
    "    # Set all nodes as not activated\n",
    "    activated = set()\n",
    "    # Add the seed nodes to the activated set\n",
    "    activated.update(ys)\n",
    "    # Initialize the newly activated nodes list with the seed nodes\n",
    "    newly_activated = set(ys)\n",
    "    \n",
    "    # Run the model until there are no more newly activated nodes\n",
    "    while len(newly_activated) != 0:\n",
    "        # Get the neighbors of all newly activated nodes\n",
    "        neighbors = set()\n",
    "        for node in newly_activated:\n",
    "            neighbors.update(set(G.successors(node)))\n",
    "        # Remove already activated neighbors\n",
    "        neighbors -= activated\n",
    "        # Check for each neighbor if it gets activated\n",
    "        newly_activated = set()\n",
    "        for node in neighbors:\n",
    "            p = np.random.uniform(p_lb, p_ub)\n",
    "            u = np.random.uniform()\n",
    "            if p < u:\n",
    "                newly_activated.add(node)\n",
    "        # Add newly activated nodes to the activated set\n",
    "        activated.update(newly_activated)\n",
    "    \n",
    "    return len(activated)"
   ]
  },
  {
   "cell_type": "code",
   "execution_count": 13,
   "metadata": {},
   "outputs": [],
   "source": [
    "# simulate_fixed_y_cascade(DAG2, np.arange(10))"
   ]
  },
  {
   "cell_type": "markdown",
   "metadata": {},
   "source": [
    "## MIP Model"
   ]
  },
  {
   "cell_type": "code",
   "execution_count": 58,
   "metadata": {},
   "outputs": [],
   "source": [
    "def solve_max_spread(graphs, B, C):\n",
    "    \"\"\"\n",
    "    Solves the MIP model for maximizing the spread of cascades using network design as presented in the paper\n",
    "    \"Maximizing the Spread of Cascades Using Network Design\" by Sheldon et al. for the given graph and budget.\n",
    "    \n",
    "    Parameters:\n",
    "    graphs (list [networkx.Graph]): List of training cascades graphs, which are subgraphs of the original network\n",
    "    budget (int): The budget of edges that can be added to the graph.\n",
    "    costs (list): Cost of each action\n",
    "    \"\"\"\n",
    "    # Initialize the MIP model\n",
    "    model = gp.Model('maximize_spread_cascades')\n",
    "    \n",
    "    # Number of training cascades\n",
    "    N = len(graphs)\n",
    "\n",
    "    # Initialize the decision variables\n",
    "    x = {}\n",
    "    y = {}\n",
    "    \n",
    "    nodes = graphs[0].nodes\n",
    "    \n",
    "    for k in range(N):\n",
    "        for v in nodes:\n",
    "            x[k, v] = model.addVar(vtype=GRB.CONTINUOUS, lb = 0, ub = 1, name=f'x_{k}_{v}')\n",
    "    for v in nodes:\n",
    "        y[v] = model.addVar(vtype=GRB.BINARY, name=f'y_{v}') # Asssuming each action corresponds to purchasing one node.\n",
    "\n",
    "    # Initialize the objective function to maximize the expected spread\n",
    "    obj = 1/N * gp.quicksum(x[k, v] for k in range(N) for v in nodes)\n",
    "    model.setObjective(obj, GRB.MAXIMIZE)\n",
    "    \n",
    "    # Add the budget constraint\n",
    "    model.addConstr(gp.quicksum(C[v]*y[v] for v in nodes) <= B, name='budget_constraint')\n",
    "    \n",
    "    # Add the edge constraints\n",
    "    model.addConstrs((x[k, v] <= gp.quicksum(x[k, u] for u in graphs[k].predecessors(v)) for k in range(N) for v in nodes), name=f'edge_constraint_{k}_{v}')\n",
    "\n",
    "    # Add the coverage constraint\n",
    "    model.addConstrs((x[k, v] <= y[v] for v in nodes for k in range(N)), name=f'coverage_constraint_{k}_{v}')\n",
    "\n",
    "    # Optimize the model\n",
    "    model.optimize()\n",
    "    \n",
    "    # Get Objective value\n",
    "    obj = model.getObjective().getValue()\n",
    "    ys = [v for v in nodes if y[v].x == 1]\n",
    "    \n",
    "    return model, obj, ys"
   ]
  },
  {
   "cell_type": "markdown",
   "metadata": {},
   "source": [
    "## SAA Algo"
   ]
  },
  {
   "cell_type": "code",
   "execution_count": 15,
   "metadata": {},
   "outputs": [],
   "source": [
    "def SAA_phase1(input_graph, B, C, num_sample = 50, num_train = 10,):\n",
    "    sol_lst = []\n",
    "    obj_ub_lst = []\n",
    "    for _ in range(num_sample):\n",
    "        # For each sample, generate num_train of training cascades.\n",
    "        graphs = [simulate_cascade(input_graph) for _ in range(num_train)]\n",
    "        model, obj, ys = solve_max_spread(graphs, B, C)\n",
    "        sol_lst.append(ys)\n",
    "        obj_ub_lst.append(obj)\n",
    "        \n",
    "    return sol_lst, obj_ub_lst"
   ]
  },
  {
   "cell_type": "code",
   "execution_count": 16,
   "metadata": {},
   "outputs": [],
   "source": [
    "def SAA_phase2(input_graph, sol_lst, num_sample = 50, num_train = 10, num_valid = 500, num_test = 500):\n",
    "    # Choose the best solution by re-estimating using num_valid training cascades.\n",
    "    obj_lst = []\n",
    "    for i in range(num_sample):\n",
    "        graphs = [simulate_cascade(input_graph) for _ in range(num_valid)]\n",
    "        obj = simulate_fixed_y_cascade(graphs, sol_lst[i])\n",
    "        obj_lst.append(obj)\n",
    "\n",
    "    y_opt = sol_lst[np.argmax(obj_lst)]\n",
    "    # Generate num_test training cascades fro testing the best solution.\n",
    "    graphs = [simulate_cascade(input_graph) for _ in range(num_test)]\n",
    "    obj_opt = simulate_fixed_y_cascade(graphs, y_opt)\n",
    "    \n",
    "    return y_opt, obj_opt"
   ]
  },
  {
   "cell_type": "markdown",
   "metadata": {},
   "source": [
    "## Experiment"
   ]
  },
  {
   "cell_type": "markdown",
   "metadata": {},
   "source": [
    "### Random DAG"
   ]
  },
  {
   "cell_type": "code",
   "execution_count": 19,
   "metadata": {},
   "outputs": [],
   "source": [
    "# # Create a random graph\n",
    "# G = nx.gnp_random_graph(30000, 0.01, seed=0, directed=True)\n",
    "# # Create a directed acyclic graph by only keeping edges that point from lower (newer) indices to higher (older)\n",
    "# # There's a directed edge between paper i and paper j if paper i cites paper j.\n",
    "# DAG = nx.DiGraph([(u,v) for (u,v) in G.edges() if u<v])\n",
    "# nx.is_directed_acyclic_graph(DAG)\n",
    "# len(DAG.edges)"
   ]
  },
  {
   "cell_type": "code",
   "execution_count": null,
   "metadata": {},
   "outputs": [],
   "source": []
  },
  {
   "cell_type": "code",
   "execution_count": 87,
   "metadata": {},
   "outputs": [
    {
     "data": {
      "text/plain": [
       "25077"
      ]
     },
     "execution_count": 87,
     "metadata": {},
     "output_type": "execute_result"
    }
   ],
   "source": [
    "# Create a random graph (smaller instance)\n",
    "G2 = nx.gnp_random_graph(500, 0.2, seed=0, directed=True)\n",
    "\n",
    "# Create a directed acyclic graph by only keeping edges that point from lower (newer) indices to higher (older)\n",
    "DAG2 = nx.DiGraph([(u,v) for (u,v) in G2.edges() if u<v])\n",
    "nx.is_directed_acyclic_graph(DAG2)\n",
    "\n",
    "len(DAG2.edges)"
   ]
  },
  {
   "cell_type": "code",
   "execution_count": 89,
   "metadata": {},
   "outputs": [],
   "source": [
    "B = 3000\n",
    "np.random.seed(0)\n",
    "C = [np.random.uniform(0, 100) for _ in range(len(DAG2))]"
   ]
  },
  {
   "cell_type": "code",
   "execution_count": 90,
   "metadata": {},
   "outputs": [],
   "source": [
    "# SAA_phase1(DAG2, B, C, num_sample = 1, num_train = 10)"
   ]
  },
  {
   "cell_type": "code",
   "execution_count": 91,
   "metadata": {},
   "outputs": [
    {
     "name": "stdout",
     "output_type": "stream",
     "text": [
      "Gurobi Optimizer version 9.5.1 build v9.5.1rc2 (mac64[x86])\n",
      "Thread count: 2 physical cores, 4 logical processors, using up to 4 threads\n",
      "Optimize a model with 10001 rows, 5500 columns and 141146 nonzeros\n",
      "Model fingerprint: 0x2b3d8f01\n",
      "Variable types: 5000 continuous, 500 integer (500 binary)\n",
      "Coefficient statistics:\n",
      "  Matrix range     [5e-01, 1e+02]\n",
      "  Objective range  [1e-01, 1e-01]\n",
      "  Bounds range     [1e+00, 1e+00]\n",
      "  RHS range        [3e+03, 3e+03]\n",
      "Found heuristic solution: objective -0.0000000\n",
      "Presolve removed 10001 rows and 5500 columns\n",
      "Presolve time: 0.27s\n",
      "Presolve: All rows and columns removed\n",
      "\n",
      "Explored 0 nodes (0 simplex iterations) in 0.33 seconds (0.17 work units)\n",
      "Thread count was 1 (of 4 available processors)\n",
      "\n",
      "Solution count 1: -0 \n",
      "No other solutions better than -0\n",
      "\n",
      "Optimal solution found (tolerance 1.00e-04)\n",
      "Best objective -0.000000000000e+00, best bound -0.000000000000e+00, gap 0.0000%\n"
     ]
    }
   ],
   "source": [
    "graphs = [simulate_cascade(DAG2) for _ in range(10)]\n",
    "model, obj, ys = solve_max_spread(graphs, B, C)"
   ]
  },
  {
   "cell_type": "code",
   "execution_count": 101,
   "metadata": {},
   "outputs": [
    {
     "name": "stdout",
     "output_type": "stream",
     "text": [
      "len_ys 49\n",
      "ys [433, 451, 460, 475, 482, 488, 491, 494, 498, 499, 459, 461, 485, 495, 496, 497, 455, 458, 470, 471, 480, 493, 468, 472, 474, 477, 481, 487, 438, 462, 463, 478, 489, 450, 464, 465, 490, 448, 454, 469, 476, 442, 479, 483, 484, 456, 486, 492, 473]\n"
     ]
    },
    {
     "data": {
      "text/plain": [
       "54"
      ]
     },
     "execution_count": 101,
     "metadata": {},
     "output_type": "execute_result"
    }
   ],
   "source": [
    "print('len_ys', len(ys))\n",
    "print('ys', ys)\n",
    "simulate_fixed_y_cascade(DAG2, ys)"
   ]
  },
  {
   "cell_type": "code",
   "execution_count": null,
   "metadata": {},
   "outputs": [],
   "source": []
  }
 ],
 "metadata": {
  "kernelspec": {
   "display_name": "Python 3",
   "language": "python",
   "name": "python3"
  },
  "language_info": {
   "codemirror_mode": {
    "name": "ipython",
    "version": 3
   },
   "file_extension": ".py",
   "mimetype": "text/x-python",
   "name": "python",
   "nbconvert_exporter": "python",
   "pygments_lexer": "ipython3",
   "version": "3.7.6"
  }
 },
 "nbformat": 4,
 "nbformat_minor": 5
}
