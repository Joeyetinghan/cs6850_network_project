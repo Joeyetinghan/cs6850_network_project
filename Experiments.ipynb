{
 "cells": [
  {
   "cell_type": "code",
   "execution_count": 129,
   "id": "3c04f0f8",
   "metadata": {},
   "outputs": [],
   "source": [
    "import json\n",
    "import numpy as np\n",
    "import networkx as nx\n",
    "import gurobipy as gp\n",
    "from gurobipy import *\n",
    "import random\n",
    "import copy\n",
    "np.random.seed(0)\n",
    "from tqdm import tqdm\n",
    "import time"
   ]
  },
  {
   "cell_type": "code",
   "execution_count": 5,
   "id": "230009f7",
   "metadata": {},
   "outputs": [
    {
     "name": "stdout",
     "output_type": "stream",
     "text": [
      "(10, 0, 1)\n"
     ]
    }
   ],
   "source": [
    "print(gp.gurobi.version())"
   ]
  },
  {
   "cell_type": "markdown",
   "id": "f1afef18",
   "metadata": {},
   "source": [
    "## Cascade Functions"
   ]
  },
  {
   "cell_type": "code",
   "execution_count": 112,
   "id": "f61c0417",
   "metadata": {},
   "outputs": [],
   "source": [
    "def simulate_cascade(G, p_lb=0, p_ub=1):\n",
    "    \"\"\"\n",
    "    Simulate a cascade in graph by flipping coins for all edges in G to construct a subgraph G'\n",
    "    \n",
    "    Parameters:\n",
    "    G (networkx.Graph): The graph on which to run the model.\n",
    "    \n",
    "    Returns:\n",
    "    G_prime (networkx.Graph): A subgraph of G\n",
    "    \"\"\"\n",
    "    \n",
    "    G_prime = G.copy()\n",
    "    \n",
    "    removed_edges = [e for e in G.edges if np.random.uniform() < G[e[0]][e[1]]['weight']]\n",
    "    \n",
    "    G_prime.remove_edges_from(removed_edges)\n",
    "    \n",
    "    return G_prime"
   ]
  },
  {
   "cell_type": "code",
   "execution_count": 113,
   "id": "a114ffc5",
   "metadata": {},
   "outputs": [],
   "source": [
    "def simulate_fixed_y_cascade(G, ys):\n",
    "    '''\n",
    "    Simulate a cascade with fixed initial set of nodes\n",
    "    '''\n",
    "    # Set all nodes as not activated\n",
    "    activated = set()\n",
    "    # Add the seed nodes to the activated set\n",
    "    activated.update(set(ys))\n",
    "    # Initialize the newly activated nodes list with the seed nodes\n",
    "    newly_activated = set(ys)\n",
    "    \n",
    "    # Run the model until there are no more newly activated nodes\n",
    "    while len(newly_activated) != 0:\n",
    "        temp_activated = set()\n",
    "        for v in newly_activated:\n",
    "            # Check for each successor if it gets activated\n",
    "            for w in G.successors(v):\n",
    "                if w not in activated:\n",
    "                    u = np.random.uniform()\n",
    "                    if u < G[v][w]['weight']:\n",
    "                        temp_activated.add(w)\n",
    "        # Add newly activated nodes to the activated set\n",
    "        newly_activated = temp_activated\n",
    "        activated.update(newly_activated)\n",
    "    \n",
    "    return len(activated)"
   ]
  },
  {
   "cell_type": "code",
   "execution_count": 114,
   "id": "1707c843",
   "metadata": {},
   "outputs": [],
   "source": [
    "def simulate_fixed_y_fixed_cascade(sub_G, ys):\n",
    "    '''\n",
    "    Simulate a cascade with fixed initial set of nodes\n",
    "    '''\n",
    "    # Set all nodes as not activated\n",
    "    activated = set()\n",
    "    # Add the seed nodes to the activated set\n",
    "    activated.update(set(ys))\n",
    "    # Initialize the newly activated nodes list with the seed nodes\n",
    "    newly_activated = set(ys)\n",
    "    \n",
    "    # Run the model until there are no more newly activated nodes\n",
    "    while len(newly_activated) != 0:\n",
    "        temp_activated = set()\n",
    "        for v in newly_activated:\n",
    "            # Check for each successor if it gets activated\n",
    "            for w in sub_G.successors(v):\n",
    "                temp_activated.add(w)\n",
    "        # Add newly activated nodes to the activated set\n",
    "        newly_activated = temp_activated\n",
    "        activated.update(newly_activated)\n",
    "    \n",
    "    return len(activated)"
   ]
  },
  {
   "cell_type": "markdown",
   "id": "52c0cc6c",
   "metadata": {},
   "source": [
    "## MIP Model"
   ]
  },
  {
   "cell_type": "code",
   "execution_count": 8,
   "id": "0c696130",
   "metadata": {},
   "outputs": [],
   "source": [
    "# def solve_max_spread(graphs, B, C):\n",
    "#     \"\"\"\n",
    "#     Solves the MIP model for maximizing the spread of cascades using network design as presented in the paper\n",
    "#     \"Maximizing the Spread of Cascades Using Network Design\" by Sheldon et al. for the given graph and budget.\n",
    "    \n",
    "#     Parameters:\n",
    "#     graphs (list [networkx.Graph]): List of training cascades graphs, which are subgraphs of the original network\n",
    "#     budget (int): The budget of edges that can be added to the graph.\n",
    "#     costs (list): Cost of each action\n",
    "#     \"\"\"\n",
    "#     # Initialize the MIP model\n",
    "#     model = gp.Model('maximize_spread_cascades')\n",
    "    \n",
    "#     # Number of training cascades\n",
    "#     N = len(graphs)\n",
    "\n",
    "#     # Initialize the decision variables\n",
    "#     x = {}\n",
    "#     y = {}\n",
    "    \n",
    "#     nodes = np.sort(list(graphs[0].nodes))\n",
    "    \n",
    "#     for k in range(N):\n",
    "#         for v in nodes:\n",
    "#             x[k, v] = model.addVar(vtype=GRB.CONTINUOUS, lb = 0, ub = 1, name=f'x_{k}_{v}')\n",
    "#     for v in nodes:\n",
    "#         y[v] = model.addVar(vtype=GRB.BINARY, name=f'y_{v}') # Asssuming each action corresponds to purchasing one node.\n",
    "\n",
    "#     # Initialize the objective function to maximize the expected spread\n",
    "#     obj = 1/N * gp.quicksum(x[k, v] for k in range(N) for v in nodes)\n",
    "#     model.setObjective(obj, GRB.MAXIMIZE)\n",
    "    \n",
    "#     # Add the budget constraint\n",
    "#     model.addConstr(gp.quicksum(C[v]*y[v] for v in nodes) <= B, name='budget_constraint')\n",
    "    \n",
    "#     # Add the edge constraints\n",
    "#     for k in range(N):\n",
    "#         for v in nodes:\n",
    "#             preds = set(graphs[k].predecessors(v))\n",
    "#             if len(preds) != 0:\n",
    "#                 model.addConstr((x[k, v] <= gp.quicksum(x[k, u] for u in preds)), name=f'edge_constraint_{k}_{v}')\n",
    "\n",
    "#     # Add the coverage constraint\n",
    "#     model.addConstrs((x[k, v] <= y[v] for v in nodes for k in range(N)), name=f'coverage_constraint_{k}_{v}')\n",
    "    \n",
    "#     model.update()\n",
    "\n",
    "#     # Optimize the model\n",
    "#     model.optimize()\n",
    "    \n",
    "#     # Get Objective value\n",
    "#     obj = model.getObjective().getValue()\n",
    "#     ys = [v for v in nodes if y[v].x == 1]\n",
    "#     return model, obj, ys"
   ]
  },
  {
   "cell_type": "code",
   "execution_count": 142,
   "id": "9198b0c1",
   "metadata": {},
   "outputs": [],
   "source": [
    "def solve_max_spread(pres, B, C):\n",
    "    \"\"\"\n",
    "    Parameters:\n",
    "    pres (dict): Set of all predecessor nodes (including the node itself) pres[k, i] who can activate node i in scenario k.\n",
    "    B (int): The budget of edges that can be added to the graph.\n",
    "    C (list): Cost of each action\n",
    "    \"\"\"\n",
    "    # Initialize the MIP model\n",
    "    model = gp.Model('maximize_spread_cascades')\n",
    "    \n",
    "    # Number of training cascades\n",
    "    N = len(graphs)\n",
    "\n",
    "    # Initialize the decision variables\n",
    "    x = {}\n",
    "    y = {}\n",
    "    \n",
    "    nodes = np.sort(list(graphs[0].nodes))\n",
    "    \n",
    "    for k in range(N):\n",
    "        for v in nodes:\n",
    "            x[k, v] = model.addVar(vtype=GRB.CONTINUOUS, lb = 0, ub = 1, name=f'x_{k}_{v}')\n",
    "    for v in nodes:\n",
    "        y[v] = model.addVar(vtype=GRB.BINARY, name=f'y_{v}') # Asssuming each action corresponds to purchasing one node.\n",
    "\n",
    "    # Initialize the objective function to maximize the expected spread\n",
    "    obj = 1/N * gp.quicksum(x[k, v] for k in range(N) for v in nodes)\n",
    "    model.setObjective(obj, GRB.MAXIMIZE)\n",
    "    \n",
    "    # Add the budget constraint\n",
    "    model.addConstr(gp.quicksum(C[v]*y[v] for v in nodes) <= B, name='budget_constraint')\n",
    "\n",
    "    # Add the coverage constraint\n",
    "    model.addConstrs((x[k, v] <= gp.quicksum(y[j] for j in pres[k, v]) for v in nodes for k in range(N)), \n",
    "                     name=f'coverage_constraint_{k}_{v}')\n",
    "    \n",
    "    model.update()\n",
    "\n",
    "    # Optimize the model\n",
    "    model.optimize()\n",
    "    \n",
    "    # Get Objective value\n",
    "    obj = model.getObjective().getValue()\n",
    "    ys = [v for v in nodes if y[v].x == 1]\n",
    "    return model, obj, ys"
   ]
  },
  {
   "cell_type": "code",
   "execution_count": 66,
   "id": "429a4892",
   "metadata": {},
   "outputs": [],
   "source": [
    "def find_pres(graphs):\n",
    "    '''\n",
    "    Return set of all predecessor nodes who can activate node i in scenario k\n",
    "    '''\n",
    "    pres = {}\n",
    "    for k in range(len(graphs)):\n",
    "        G_reversed = graphs[k].reverse()\n",
    "        for i in graphs[k].nodes:\n",
    "            successors = {i: [i]}\n",
    "            pres[k, i] = set()\n",
    "            while successors:\n",
    "                new_successors = {}\n",
    "                for node, successors in successors.items():\n",
    "                    for successor in successors:\n",
    "                        if successor not in pres[k, i]:\n",
    "                            pres[k, i].add(successor)\n",
    "                            new_successors[successor] = G_reversed.successors(successor)\n",
    "                successors = new_successors\n",
    "    return pres"
   ]
  },
  {
   "cell_type": "markdown",
   "id": "434f22dc",
   "metadata": {},
   "source": [
    "## SAA Algo"
   ]
  },
  {
   "cell_type": "code",
   "execution_count": 134,
   "id": "6677f179",
   "metadata": {},
   "outputs": [],
   "source": [
    "def SAA_phase1(input_graph, B, C, num_sample = 50, num_train = 10):\n",
    "    sol_lst = []\n",
    "    obj_ub_lst = []\n",
    "    for i in range(num_sample):\n",
    "        np.random.seed(i)\n",
    "        # For each sample, generate num_train of training cascades.\n",
    "        graphs = [simulate_cascade(input_graph) for _ in range(num_train)]\n",
    "        # Find predecessors of each node in each realization.\n",
    "        pres = find_pres(graphs)\n",
    "        model, obj, ys = solve_max_spread(pres, B, C)\n",
    "        sol_lst.append(ys)\n",
    "        obj_ub_lst.append(obj)\n",
    "        \n",
    "    return sol_lst, obj_ub_lst"
   ]
  },
  {
   "cell_type": "code",
   "execution_count": 135,
   "id": "9959d2cb",
   "metadata": {},
   "outputs": [],
   "source": [
    "def SAA_phase2(input_graph, sol_lst, num_valid = 500, num_test = 500):\n",
    "    # Choose the best solution by re-estimating using num_valid training cascades.\n",
    "    obj_avg_lst = [np.mean([simulate_fixed_y_cascade(input_graph, sol)\n",
    "                            for _ in range(num_valid)]) for sol in tqdm(sol_lst)]\n",
    "\n",
    "    y_opt = sol_lst[np.argmax(obj_avg_lst)]\n",
    "    # Generate num_test replications for testing the best solution.\n",
    "    obj_lb_lst = [simulate_fixed_y_cascade(input_graph, y_opt) for _ in range(num_test)]\n",
    "    \n",
    "    return y_opt, obj_lb_lst"
   ]
  },
  {
   "cell_type": "code",
   "execution_count": 153,
   "id": "6c026a22",
   "metadata": {},
   "outputs": [],
   "source": [
    "def main_algo(G, B, C, num_sample, num_train, num_valid, num_test):\n",
    "    start_time = time.perf_counter()\n",
    "    \n",
    "    sol_lst, obj_ub_lst = SAA_phase1(G, B, C, num_sample = num_sample, num_train = num_train)\n",
    "    y_opt, obj_lb_lst = SAA_phase2(G, sol_lst, num_valid = num_valid, num_test = num_test)\n",
    "    \n",
    "    end_time = time.perf_counter()\n",
    "    cpu_time = end_time - start_time\n",
    "    print(\"CPU time:\", cpu_time)\n",
    "\n",
    "    t_critical = t.ppf(0.975, num_sample-1)\n",
    "    ub_CI_lower = np.mean(obj_ub_lst)-t_critical*(np.std(obj_ub_lst)/np.sqrt(num_sample))\n",
    "    ub_CI_upper = np.mean(obj_ub_lst)+t_critical*(np.std(obj_ub_lst)/np.sqrt(num_sample))\n",
    "    print(\"95% Confidence Interval of upper bound estimate: [{:.2f}, {:.2f}]\".format(ub_CI_lower, ub_CI_upper))\n",
    "\n",
    "    \n",
    "    lb_CI_lower = np.mean(obj_lb_lst)-1.96*(np.std(obj_lb_lst)/np.sqrt(num_test))\n",
    "    lb_CI_upper = np.mean(obj_lb_lst)+1.96*(np.std(obj_lb_lst)/np.sqrt(num_test))\n",
    "    print(\"95% Confidence Interval of lower bound estimate: [{:.2f}, {:.2f}]\".format(lb_CI_lower, lb_CI_upper))\n",
    "    \n",
    "\n",
    "    return y_opt, ub_CI_lower, ub_CI_upper, lb_CI_lower, lb_CI_upper, cpu_time"
   ]
  },
  {
   "cell_type": "markdown",
   "id": "8706bf85",
   "metadata": {},
   "source": [
    "## Experiment"
   ]
  },
  {
   "cell_type": "markdown",
   "id": "e4d8495f",
   "metadata": {},
   "source": [
    "### 1. Random DAG"
   ]
  },
  {
   "cell_type": "code",
   "execution_count": 154,
   "id": "f481b97c",
   "metadata": {},
   "outputs": [
    {
     "name": "stdout",
     "output_type": "stream",
     "text": [
      "Is the graph acyclic: True\n",
      "Num edges:  25077\n"
     ]
    }
   ],
   "source": [
    "# Create a random Gnp graph.\n",
    "G = nx.gnp_random_graph(500, 0.2, seed=0, directed=True)\n",
    "\n",
    "# Create a directed acyclic graph by only keeping edges that point from lower (newer) indices to higher (older).\n",
    "DAG = nx.DiGraph()\n",
    "DAG.add_nodes_from(G.nodes)\n",
    "DAG.add_edges_from([(u,v) for (u,v) in G.edges() if u<v])\n",
    "print('Is the graph acyclic:', nx.is_directed_acyclic_graph(DAG))\n",
    "print('Num edges: ', len(DAG.edges))"
   ]
  },
  {
   "cell_type": "code",
   "execution_count": 155,
   "id": "3b423cde",
   "metadata": {},
   "outputs": [],
   "source": [
    "# Add random activation probabilities for each edge\n",
    "np.random.seed(0)\n",
    "for e in DAG.edges():\n",
    "    DAG[e[0]][e[1]]['weight'] = np.random.uniform(0, 1)"
   ]
  },
  {
   "cell_type": "code",
   "execution_count": 156,
   "id": "dc774ce9",
   "metadata": {},
   "outputs": [],
   "source": [
    "# Input parameters - budget and action cost\n",
    "B = 300\n",
    "np.random.seed(0)\n",
    "# Cost of each node is uniformly distribution from (0, 100)\n",
    "C = [np.random.uniform(0, 100) for _ in range(len(DAG))]\n",
    "# C = 100 * np.ones(len(DAG))"
   ]
  },
  {
   "cell_type": "markdown",
   "id": "f39bb8bb",
   "metadata": {},
   "source": [
    "Experiment 1.1: "
   ]
  },
  {
   "cell_type": "code",
   "execution_count": null,
   "id": "e1ce54a9",
   "metadata": {},
   "outputs": [],
   "source": []
  },
  {
   "cell_type": "code",
   "execution_count": null,
   "id": "49c3096c",
   "metadata": {},
   "outputs": [],
   "source": []
  },
  {
   "cell_type": "markdown",
   "id": "eb6eea1d",
   "metadata": {},
   "source": [
    "### 2. Reddit Interaction Network"
   ]
  },
  {
   "cell_type": "markdown",
   "id": "616c6492",
   "metadata": {},
   "source": [
    "Refer to http://snap.stanford.edu/data/web-RedditNetworks.html"
   ]
  },
  {
   "cell_type": "code",
   "execution_count": 144,
   "id": "f2c155e5",
   "metadata": {},
   "outputs": [
    {
     "name": "stdout",
     "output_type": "stream",
     "text": [
      "['TedTheGreek_Atheos', 'ptwonline', 'sn00gan', 'TiiziiO', 'caged_raptor']\n"
     ]
    }
   ],
   "source": [
    "# read in networks for subreddit /r/politics\n",
    "with open(\"politics.json\") as fp:\n",
    "    month_nets = json.load(fp)\n",
    "\n",
    "# see who the user sn00gan replied to in the first month\n",
    "print(month_nets[0][\"sn00gan\"])"
   ]
  },
  {
   "cell_type": "code",
   "execution_count": 148,
   "id": "474bb882",
   "metadata": {},
   "outputs": [],
   "source": [
    "# Create graph\n",
    "G2 = nx.DiGraph()\n",
    "for i in range(len(month_nets)):\n",
    "    for k,v in month_nets[i].items():\n",
    "        for vs in v:\n",
    "            G2.add_edge(k, vs)"
   ]
  },
  {
   "cell_type": "code",
   "execution_count": 149,
   "id": "9a99f009",
   "metadata": {},
   "outputs": [
    {
     "data": {
      "text/plain": [
       "1688750"
      ]
     },
     "execution_count": 149,
     "metadata": {},
     "output_type": "execute_result"
    }
   ],
   "source": [
    "len(G2.edges)"
   ]
  },
  {
   "cell_type": "code",
   "execution_count": 150,
   "id": "2fd0c9d6",
   "metadata": {},
   "outputs": [
    {
     "data": {
      "text/plain": [
       "119780"
      ]
     },
     "execution_count": 150,
     "metadata": {},
     "output_type": "execute_result"
    }
   ],
   "source": [
    "len(G2.nodes)"
   ]
  },
  {
   "cell_type": "code",
   "execution_count": 152,
   "id": "015d4f7e",
   "metadata": {},
   "outputs": [
    {
     "name": "stderr",
     "output_type": "stream",
     "text": [
      "C:\\Users\\USER\\AppData\\Local\\Temp\\ipykernel_18940\\1348474237.py:3: DeprecationWarning: Sampling from a set deprecated\n",
      "since Python 3.9 and will be removed in a subsequent version.\n",
      "  subgraph_edges = random.sample(G2.edges(), num_edges)\n"
     ]
    },
    {
     "name": "stdout",
     "output_type": "stream",
     "text": [
      "num nodes: 926\n",
      "num edges: 500\n"
     ]
    }
   ],
   "source": [
    "# Choose a random subgraph with the specified number of edges\n",
    "num_edges = 500\n",
    "subgraph_edges = random.sample(G2.edges(), num_edges)\n",
    "sub_G2 = G2.edge_subgraph(subgraph_edges)\n",
    "print('num nodes:', len(sub_G2))\n",
    "print('num edges:', len(sub_G2.edges))"
   ]
  },
  {
   "cell_type": "code",
   "execution_count": null,
   "id": "f473cc88",
   "metadata": {},
   "outputs": [],
   "source": []
  }
 ],
 "metadata": {
  "kernelspec": {
   "display_name": "Python 3 (ipykernel)",
   "language": "python",
   "name": "python3"
  },
  "language_info": {
   "codemirror_mode": {
    "name": "ipython",
    "version": 3
   },
   "file_extension": ".py",
   "mimetype": "text/x-python",
   "name": "python",
   "nbconvert_exporter": "python",
   "pygments_lexer": "ipython3",
   "version": "3.9.13"
  }
 },
 "nbformat": 4,
 "nbformat_minor": 5
}
